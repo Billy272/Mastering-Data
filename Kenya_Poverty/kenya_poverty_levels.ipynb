{
 "cells": [
  {
   "cell_type": "markdown",
   "source": [
    "**Kenya Poverty Levels and Predictions**\n",
    "\n",
    "**Introduction**\n",
    "\n",
    "Kenya is a country in Africa well known for its wildlife attraction,\n",
    "athletics and silicon savannah. Though the country also faces the \n",
    "challenge of poverty. The objective of this project is to predict\n",
    "the poverty levels of individuals in Kenya using the data provided\n",
    "by Kaggle."
   ],
   "metadata": {
    "collapsed": false
   },
   "id": "2442440906db3b21"
  },
  {
   "cell_type": "markdown",
   "source": [
    "**Sample of the data**"
   ],
   "metadata": {
    "collapsed": false
   },
   "id": "5471b134e6da4dfd"
  },
  {
   "cell_type": "code",
   "execution_count": 1,
   "id": "initial_id",
   "metadata": {
    "collapsed": true,
    "ExecuteTime": {
     "end_time": "2023-11-15T08:41:11.800307796Z",
     "start_time": "2023-11-15T08:41:09.666652224Z"
    }
   },
   "outputs": [
    {
     "data": {
      "text/plain": "  residence_county  Headcount Rate (%)  Distribution of the Poor (%)  \\\n0         National                36.1                         100.0   \n1            Rural                40.1                          71.3   \n2       Peri-Urban                27.5                           5.6   \n3       Core-Urban                29.4                          23.1   \n4          Mombasa                27.1                           2.0   \n5            Kwale                47.4                           2.4   \n6           Kilifi                46.4                           4.0   \n7       Tana River                62.2                           1.2   \n8             Lamu                28.5                           0.2   \n9     Taita/Taveta                32.3                           0.7   \n\n   Poverty Gap (%)  Severity of Poverty (%) Population (ths)  \\\n0             10.4                      4.5           45,371   \n1             11.5                      5.0           29,127   \n2              6.9                      2.6            3,340   \n3              8.9                      3.9           12,905   \n4              7.5                      3.3            1,185   \n5             11.1                      3.6              820   \n6             12.3                      4.8            1,400   \n7             20.0                      9.3              304   \n8              5.5                      1.8              128   \n9              7.7                      2.7              358   \n\n  Number of Poor (ths)  \n0               16,401  \n1               11,687  \n2                  920  \n3                3,795  \n4                  321  \n5                  389  \n6                  650  \n7                  189  \n8                   36  \n9                  116  ",
      "text/html": "<div>\n<style scoped>\n    .dataframe tbody tr th:only-of-type {\n        vertical-align: middle;\n    }\n\n    .dataframe tbody tr th {\n        vertical-align: top;\n    }\n\n    .dataframe thead th {\n        text-align: right;\n    }\n</style>\n<table border=\"1\" class=\"dataframe\">\n  <thead>\n    <tr style=\"text-align: right;\">\n      <th></th>\n      <th>residence_county</th>\n      <th>Headcount Rate (%)</th>\n      <th>Distribution of the Poor (%)</th>\n      <th>Poverty Gap (%)</th>\n      <th>Severity of Poverty (%)</th>\n      <th>Population (ths)</th>\n      <th>Number of Poor (ths)</th>\n    </tr>\n  </thead>\n  <tbody>\n    <tr>\n      <th>0</th>\n      <td>National</td>\n      <td>36.1</td>\n      <td>100.0</td>\n      <td>10.4</td>\n      <td>4.5</td>\n      <td>45,371</td>\n      <td>16,401</td>\n    </tr>\n    <tr>\n      <th>1</th>\n      <td>Rural</td>\n      <td>40.1</td>\n      <td>71.3</td>\n      <td>11.5</td>\n      <td>5.0</td>\n      <td>29,127</td>\n      <td>11,687</td>\n    </tr>\n    <tr>\n      <th>2</th>\n      <td>Peri-Urban</td>\n      <td>27.5</td>\n      <td>5.6</td>\n      <td>6.9</td>\n      <td>2.6</td>\n      <td>3,340</td>\n      <td>920</td>\n    </tr>\n    <tr>\n      <th>3</th>\n      <td>Core-Urban</td>\n      <td>29.4</td>\n      <td>23.1</td>\n      <td>8.9</td>\n      <td>3.9</td>\n      <td>12,905</td>\n      <td>3,795</td>\n    </tr>\n    <tr>\n      <th>4</th>\n      <td>Mombasa</td>\n      <td>27.1</td>\n      <td>2.0</td>\n      <td>7.5</td>\n      <td>3.3</td>\n      <td>1,185</td>\n      <td>321</td>\n    </tr>\n    <tr>\n      <th>5</th>\n      <td>Kwale</td>\n      <td>47.4</td>\n      <td>2.4</td>\n      <td>11.1</td>\n      <td>3.6</td>\n      <td>820</td>\n      <td>389</td>\n    </tr>\n    <tr>\n      <th>6</th>\n      <td>Kilifi</td>\n      <td>46.4</td>\n      <td>4.0</td>\n      <td>12.3</td>\n      <td>4.8</td>\n      <td>1,400</td>\n      <td>650</td>\n    </tr>\n    <tr>\n      <th>7</th>\n      <td>Tana River</td>\n      <td>62.2</td>\n      <td>1.2</td>\n      <td>20.0</td>\n      <td>9.3</td>\n      <td>304</td>\n      <td>189</td>\n    </tr>\n    <tr>\n      <th>8</th>\n      <td>Lamu</td>\n      <td>28.5</td>\n      <td>0.2</td>\n      <td>5.5</td>\n      <td>1.8</td>\n      <td>128</td>\n      <td>36</td>\n    </tr>\n    <tr>\n      <th>9</th>\n      <td>Taita/Taveta</td>\n      <td>32.3</td>\n      <td>0.7</td>\n      <td>7.7</td>\n      <td>2.7</td>\n      <td>358</td>\n      <td>116</td>\n    </tr>\n  </tbody>\n</table>\n</div>"
     },
     "execution_count": 1,
     "metadata": {},
     "output_type": "execute_result"
    }
   ],
   "source": [
    "import pandas as pd\n",
    "\n",
    "poverty_level = pd.read_csv('overall_poverty_est.csv')\n",
    "\n",
    "poverty_level.head(10)"
   ]
  },
  {
   "cell_type": "markdown",
   "source": [
    "Checking the data types of the columns"
   ],
   "metadata": {
    "collapsed": false
   },
   "id": "2c46bdfa5877bf2e"
  },
  {
   "cell_type": "code",
   "execution_count": 2,
   "outputs": [
    {
     "data": {
      "text/plain": "residence_county                 object\nHeadcount Rate (%)              float64\nDistribution of the Poor (%)    float64\nPoverty Gap (%)                 float64\nSeverity of Poverty (%)         float64\nPopulation (ths)                 object\nNumber of Poor (ths)             object\ndtype: object"
     },
     "execution_count": 2,
     "metadata": {},
     "output_type": "execute_result"
    }
   ],
   "source": [
    "poverty_level.dtypes"
   ],
   "metadata": {
    "collapsed": false,
    "ExecuteTime": {
     "end_time": "2023-11-15T09:04:38.936517675Z",
     "start_time": "2023-11-15T09:04:38.813073615Z"
    }
   },
   "id": "23aff678e5351f10"
  },
  {
   "cell_type": "markdown",
   "source": [
    "**Data Cleaning**\n",
    "\n",
    "The data provided by Kaggle is not clean. The data may have missing \n",
    "values. Let's check it out."
   ],
   "metadata": {
    "collapsed": false
   },
   "id": "b9c5a4335c9b6252"
  },
  {
   "cell_type": "code",
   "execution_count": 3,
   "outputs": [
    {
     "data": {
      "text/plain": "residence_county                0\nHeadcount Rate (%)              0\nDistribution of the Poor (%)    0\nPoverty Gap (%)                 0\nSeverity of Poverty (%)         0\nPopulation (ths)                0\nNumber of Poor (ths)            0\ndtype: int64"
     },
     "execution_count": 3,
     "metadata": {},
     "output_type": "execute_result"
    }
   ],
   "source": [
    "poverty_level.isnull().sum()"
   ],
   "metadata": {
    "collapsed": false,
    "ExecuteTime": {
     "end_time": "2023-11-15T09:05:42.792580970Z",
     "start_time": "2023-11-15T09:05:42.704966840Z"
    }
   },
   "id": "3cab3ce5ebea4e30"
  },
  {
   "cell_type": "markdown",
   "source": [
    "The data has no missing values. Let's check for duplicates."
   ],
   "metadata": {
    "collapsed": false
   },
   "id": "bfa245e1fe2e6591"
  },
  {
   "cell_type": "code",
   "execution_count": 4,
   "outputs": [
    {
     "data": {
      "text/plain": "0"
     },
     "execution_count": 4,
     "metadata": {},
     "output_type": "execute_result"
    }
   ],
   "source": [
    "poverty_level.duplicated().sum()"
   ],
   "metadata": {
    "collapsed": false,
    "ExecuteTime": {
     "end_time": "2023-11-15T09:06:24.035507987Z",
     "start_time": "2023-11-15T09:06:23.795257967Z"
    }
   },
   "id": "a3aef0b294f6eff3"
  },
  {
   "cell_type": "markdown",
   "source": [
    "The data has no duplicates."
   ],
   "metadata": {
    "collapsed": false
   },
   "id": "2b5a5920522e3d6b"
  },
  {
   "cell_type": "markdown",
   "source": [
    "**Exploratory Data Analysis**\n",
    "\n",
    "Let's check the distribution of the data. "
   ],
   "metadata": {
    "collapsed": false
   },
   "id": "b292809279fe9aec"
  },
  {
   "cell_type": "code",
   "execution_count": 7,
   "outputs": [
    {
     "data": {
      "text/plain": "<Figure size 1000x600 with 1 Axes>",
      "image/png": "[encoded data removed]"
     },
     "metadata": {},
     "output_type": "display_data"
    }
   ],
   "source": [
    "import matplotlib.pyplot as plt\n",
    "import seaborn as sns\n",
    "\n",
    "sns.set_style('darkgrid')\n",
    "sns.set_palette('Set2')\n",
    "\n",
    "plt.figure(figsize=(10, 6))\n",
    "sns.countplot(x='Severity of Poverty (%)', data=poverty_level)\n",
    "plt.title('Distribution of Poverty Levels')\n",
    "plt.xlabel('Poverty Level')\n",
    "plt.ylabel('Count')\n",
    "plt.show()"
   ],
   "metadata": {
    "collapsed": false,
    "ExecuteTime": {
     "end_time": "2023-11-15T09:12:03.240985038Z",
     "start_time": "2023-11-15T09:12:02.161004811Z"
    }
   },
   "id": "8c21907b10371ff7"
  }
 ],
 "metadata": {
  "kernelspec": {
   "display_name": "Python 3",
   "language": "python",
   "name": "python3"
  },
  "language_info": {
   "codemirror_mode": {
    "name": "ipython",
    "version": 2
   },
   "file_extension": ".py",
   "mimetype": "text/x-python",
   "name": "python",
   "nbconvert_exporter": "python",
   "pygments_lexer": "ipython2",
   "version": "2.7.6"
  }
 },
 "nbformat": 4,
 "nbformat_minor": 5
}
