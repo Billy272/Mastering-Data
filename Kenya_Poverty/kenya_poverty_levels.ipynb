{
 "cells": [
  {
   "cell_type": "markdown",
   "id": "2442440906db3b21",
   "metadata": {
    "collapsed": false
   },
   "source": [
    "**Kenya Poverty Levels and Predictions**\n",
    "\n",
    "**Introduction**\n",
    "\n",
    "Kenya is a country in Africa well known for its wildlife attraction,\n",
    "athletics and silicon savannah. Though the country also faces the \n",
    "challenge of poverty. The objective of this project is to predict\n",
    "the poverty levels of individuals in Kenya using the data provided\n",
    "by Kaggle."
   ]
  },
  {
   "cell_type": "markdown",
   "id": "5471b134e6da4dfd",
   "metadata": {
    "collapsed": false
   },
   "source": [
    "**Sample of the data**"
   ]
  },
  {
   "cell_type": "code",
   "execution_count": 1,
   "id": "initial_id",
   "metadata": {
    "ExecuteTime": {
     "end_time": "2023-11-15T08:41:11.800307796Z",
     "start_time": "2023-11-15T08:41:09.666652224Z"
    },
    "collapsed": true,
    "jupyter": {
     "outputs_hidden": true
    }
   },
   "outputs": [
    {
     "data": {
      "text/html": [
       "<div>\n",
       "<style scoped>\n",
       "    .dataframe tbody tr th:only-of-type {\n",
       "        vertical-align: middle;\n",
       "    }\n",
       "\n",
       "    .dataframe tbody tr th {\n",
       "        vertical-align: top;\n",
       "    }\n",
       "\n",
       "    .dataframe thead th {\n",
       "        text-align: right;\n",
       "    }\n",
       "</style>\n",
       "<table border=\"1\" class=\"dataframe\">\n",
       "  <thead>\n",
       "    <tr style=\"text-align: right;\">\n",
       "      <th></th>\n",
       "      <th>residence_county</th>\n",
       "      <th>Headcount Rate (%)</th>\n",
       "      <th>Distribution of the Poor (%)</th>\n",
       "      <th>Poverty Gap (%)</th>\n",
       "      <th>Severity of Poverty (%)</th>\n",
       "      <th>Population (ths)</th>\n",
       "      <th>Number of Poor (ths)</th>\n",
       "    </tr>\n",
       "  </thead>\n",
       "  <tbody>\n",
       "    <tr>\n",
       "      <th>0</th>\n",
       "      <td>National</td>\n",
       "      <td>36.1</td>\n",
       "      <td>100.0</td>\n",
       "      <td>10.4</td>\n",
       "      <td>4.5</td>\n",
       "      <td>45,371</td>\n",
       "      <td>16,401</td>\n",
       "    </tr>\n",
       "    <tr>\n",
       "      <th>1</th>\n",
       "      <td>Rural</td>\n",
       "      <td>40.1</td>\n",
       "      <td>71.3</td>\n",
       "      <td>11.5</td>\n",
       "      <td>5.0</td>\n",
       "      <td>29,127</td>\n",
       "      <td>11,687</td>\n",
       "    </tr>\n",
       "    <tr>\n",
       "      <th>2</th>\n",
       "      <td>Peri-Urban</td>\n",
       "      <td>27.5</td>\n",
       "      <td>5.6</td>\n",
       "      <td>6.9</td>\n",
       "      <td>2.6</td>\n",
       "      <td>3,340</td>\n",
       "      <td>920</td>\n",
       "    </tr>\n",
       "    <tr>\n",
       "      <th>3</th>\n",
       "      <td>Core-Urban</td>\n",
       "      <td>29.4</td>\n",
       "      <td>23.1</td>\n",
       "      <td>8.9</td>\n",
       "      <td>3.9</td>\n",
       "      <td>12,905</td>\n",
       "      <td>3,795</td>\n",
       "    </tr>\n",
       "    <tr>\n",
       "      <th>4</th>\n",
       "      <td>Mombasa</td>\n",
       "      <td>27.1</td>\n",
       "      <td>2.0</td>\n",
       "      <td>7.5</td>\n",
       "      <td>3.3</td>\n",
       "      <td>1,185</td>\n",
       "      <td>321</td>\n",
       "    </tr>\n",
       "    <tr>\n",
       "      <th>5</th>\n",
       "      <td>Kwale</td>\n",
       "      <td>47.4</td>\n",
       "      <td>2.4</td>\n",
       "      <td>11.1</td>\n",
       "      <td>3.6</td>\n",
       "      <td>820</td>\n",
       "      <td>389</td>\n",
       "    </tr>\n",
       "    <tr>\n",
       "      <th>6</th>\n",
       "      <td>Kilifi</td>\n",
       "      <td>46.4</td>\n",
       "      <td>4.0</td>\n",
       "      <td>12.3</td>\n",
       "      <td>4.8</td>\n",
       "      <td>1,400</td>\n",
       "      <td>650</td>\n",
       "    </tr>\n",
       "    <tr>\n",
       "      <th>7</th>\n",
       "      <td>Tana River</td>\n",
       "      <td>62.2</td>\n",
       "      <td>1.2</td>\n",
       "      <td>20.0</td>\n",
       "      <td>9.3</td>\n",
       "      <td>304</td>\n",
       "      <td>189</td>\n",
       "    </tr>\n",
       "    <tr>\n",
       "      <th>8</th>\n",
       "      <td>Lamu</td>\n",
       "      <td>28.5</td>\n",
       "      <td>0.2</td>\n",
       "      <td>5.5</td>\n",
       "      <td>1.8</td>\n",
       "      <td>128</td>\n",
       "      <td>36</td>\n",
       "    </tr>\n",
       "    <tr>\n",
       "      <th>9</th>\n",
       "      <td>Taita/Taveta</td>\n",
       "      <td>32.3</td>\n",
       "      <td>0.7</td>\n",
       "      <td>7.7</td>\n",
       "      <td>2.7</td>\n",
       "      <td>358</td>\n",
       "      <td>116</td>\n",
       "    </tr>\n",
       "  </tbody>\n",
       "</table>\n",
       "</div>"
      ],
      "text/plain": [
       "  residence_county  Headcount Rate (%)  Distribution of the Poor (%)  \\\n",
       "0         National                36.1                         100.0   \n",
       "1            Rural                40.1                          71.3   \n",
       "2       Peri-Urban                27.5                           5.6   \n",
       "3       Core-Urban                29.4                          23.1   \n",
       "4          Mombasa                27.1                           2.0   \n",
       "5            Kwale                47.4                           2.4   \n",
       "6           Kilifi                46.4                           4.0   \n",
       "7       Tana River                62.2                           1.2   \n",
       "8             Lamu                28.5                           0.2   \n",
       "9     Taita/Taveta                32.3                           0.7   \n",
       "\n",
       "   Poverty Gap (%)  Severity of Poverty (%) Population (ths)  \\\n",
       "0             10.4                      4.5           45,371   \n",
       "1             11.5                      5.0           29,127   \n",
       "2              6.9                      2.6            3,340   \n",
       "3              8.9                      3.9           12,905   \n",
       "4              7.5                      3.3            1,185   \n",
       "5             11.1                      3.6              820   \n",
       "6             12.3                      4.8            1,400   \n",
       "7             20.0                      9.3              304   \n",
       "8              5.5                      1.8              128   \n",
       "9              7.7                      2.7              358   \n",
       "\n",
       "  Number of Poor (ths)  \n",
       "0               16,401  \n",
       "1               11,687  \n",
       "2                  920  \n",
       "3                3,795  \n",
       "4                  321  \n",
       "5                  389  \n",
       "6                  650  \n",
       "7                  189  \n",
       "8                   36  \n",
       "9                  116  "
      ]
     },
     "execution_count": 1,
     "metadata": {},
     "output_type": "execute_result"
    }
   ],
   "source": [
    "import pandas as pd\n",
    "\n",
    "poverty_level = pd.read_csv('overall_poverty_est.csv')\n",
    "\n",
    "poverty_level.head(10)"
   ]
  },
  {
   "cell_type": "markdown",
   "id": "2c46bdfa5877bf2e",
   "metadata": {
    "collapsed": false
   },
   "source": [
    "Checking the data types of the columns"
   ]
  },
  {
   "cell_type": "code",
   "execution_count": 2,
   "id": "23aff678e5351f10",
   "metadata": {
    "ExecuteTime": {
     "end_time": "2023-11-15T09:04:38.936517675Z",
     "start_time": "2023-11-15T09:04:38.813073615Z"
    },
    "collapsed": false
   },
   "outputs": [
    {
     "data": {
      "text/plain": [
       "residence_county                 object\n",
       "Headcount Rate (%)              float64\n",
       "Distribution of the Poor (%)    float64\n",
       "Poverty Gap (%)                 float64\n",
       "Severity of Poverty (%)         float64\n",
       "Population (ths)                 object\n",
       "Number of Poor (ths)             object\n",
       "dtype: object"
      ]
     },
     "execution_count": 2,
     "metadata": {},
     "output_type": "execute_result"
    }
   ],
   "source": [
    "poverty_level.dtypes"
   ]
  },
  {
   "cell_type": "markdown",
   "id": "b9c5a4335c9b6252",
   "metadata": {
    "collapsed": false
   },
   "source": [
    "**Data Cleaning**\n",
    "\n",
    "The data provided by Kaggle is not clean. The data may have missing \n",
    "values. Let's check it out."
   ]
  },
  {
   "cell_type": "code",
   "execution_count": 3,
   "id": "3cab3ce5ebea4e30",
   "metadata": {
    "ExecuteTime": {
     "end_time": "2023-11-15T09:05:42.792580970Z",
     "start_time": "2023-11-15T09:05:42.704966840Z"
    },
    "collapsed": false
   },
   "outputs": [
    {
     "data": {
      "text/plain": [
       "residence_county                0\n",
       "Headcount Rate (%)              0\n",
       "Distribution of the Poor (%)    0\n",
       "Poverty Gap (%)                 0\n",
       "Severity of Poverty (%)         0\n",
       "Population (ths)                0\n",
       "Number of Poor (ths)            0\n",
       "dtype: int64"
      ]
     },
     "execution_count": 3,
     "metadata": {},
     "output_type": "execute_result"
    }
   ],
   "source": [
    "poverty_level.isnull().sum()"
   ]
  },
  {
   "cell_type": "markdown",
   "id": "bfa245e1fe2e6591",
   "metadata": {
    "collapsed": false
   },
   "source": [
    "The data has no missing values. Let's check for duplicates."
   ]
  },
  {
   "cell_type": "code",
   "execution_count": 4,
   "id": "a3aef0b294f6eff3",
   "metadata": {
    "ExecuteTime": {
     "end_time": "2023-11-15T09:06:24.035507987Z",
     "start_time": "2023-11-15T09:06:23.795257967Z"
    },
    "collapsed": false
   },
   "outputs": [
    {
     "data": {
      "text/plain": [
       "0"
      ]
     },
     "execution_count": 4,
     "metadata": {},
     "output_type": "execute_result"
    }
   ],
   "source": [
    "poverty_level.duplicated().sum()"
   ]
  },
  {
   "cell_type": "markdown",
   "id": "2b5a5920522e3d6b",
   "metadata": {
    "collapsed": false
   },
   "source": [
    "The data has no duplicates."
   ]
  },
  {
   "cell_type": "markdown",
   "id": "b292809279fe9aec",
   "metadata": {
    "collapsed": false
   },
   "source": [
    "**Exploratory Data Analysis**\n",
    "\n",
    "Let's check the distribution of the data. "
   ]
  },
  {
   "cell_type": "code",
   "execution_count": 13,
   "id": "8c21907b10371ff7",
   "metadata": {
    "ExecuteTime": {
     "end_time": "2023-11-15T09:17:39.973840041Z",
     "start_time": "2023-11-15T09:17:39.736000705Z"
    },
    "collapsed": false
   },
   "outputs": [
    {
     "data": {
      "image/png": "[encoded data removed]",
      "text/plain": [
       "<Figure size 600x1000 with 1 Axes>"
      ]
     },
     "metadata": {},
     "output_type": "display_data"
    }
   ],
   "source": [
    "import matplotlib.pyplot as plt\n",
    "import seaborn as sns\n",
    "\n",
    "sns.set_style('darkgrid')\n",
    "sns.set_palette('Set2')\n",
    "\n",
    "plt.figure(figsize=(6, 10))\n",
    "sns.boxplot(y='Severity of Poverty (%)', data=poverty_level)\n",
    "plt.xticks(rotation=45)\n",
    "plt.title('Distribution of Poverty Levels')\n",
    "plt.ylabel('Poverty Level (%)')\n",
    "plt.xlabel('Count')\n",
    "plt.show()"
   ]
  },
  {
   "cell_type": "markdown",
   "source": [
    "The percentage of poverty reaches about 30% of the total population.\n",
    "But the most vulnerable make up a 10%."
   ],
   "metadata": {
    "collapsed": false
   },
   "id": "7b363759807a4c6b"
  },
  {
   "cell_type": "markdown",
   "source": [
    "**Data Cleaning**\n",
    "\n",
    "We will convert two columns to float data type. Also, the values in \n",
    "it will be converted to thousands.The columns are 'Population (ths)'\n",
    "and 'Number of Poor (ths)'."
   ],
   "metadata": {
    "collapsed": false
   },
   "id": "2e5b6f9c4b6db876"
  },
  {
   "cell_type": "code",
   "execution_count": 14,
   "outputs": [
    {
     "data": {
      "text/plain": "residence_county                 object\nHeadcount Rate (%)              float64\nDistribution of the Poor (%)    float64\nPoverty Gap (%)                 float64\nSeverity of Poverty (%)         float64\nPopulation (ths)                float64\nNumber of Poor (ths)            float64\ndtype: object"
     },
     "execution_count": 14,
     "metadata": {},
     "output_type": "execute_result"
    }
   ],
   "source": [
    "poverty_level['Population (ths)'] = poverty_level['Population (ths)'].str.replace(',', '').astype(float)\n",
    "\n",
    "poverty_level['Number of Poor (ths)'] = poverty_level['Number of Poor (ths)'].str.replace(',', '').astype(float)\n",
    "\n",
    "poverty_level.dtypes"
   ],
   "metadata": {
    "collapsed": false,
    "ExecuteTime": {
     "end_time": "2023-11-16T07:02:05.635976017Z",
     "start_time": "2023-11-16T07:01:58.961216290Z"
    }
   },
   "id": "5a3e6295cecec2e5"
  }
 ],
 "metadata": {
  "kernelspec": {
   "display_name": "Python 3 (ipykernel)",
   "language": "python",
   "name": "python3"
  },
  "language_info": {
   "codemirror_mode": {
    "name": "ipython",
    "version": 3
   },
   "file_extension": ".py",
   "mimetype": "text/x-python",
   "name": "python",
   "nbconvert_exporter": "python",
   "pygments_lexer": "ipython3",
   "version": "3.11.6"
  }
 },
 "nbformat": 4,
 "nbformat_minor": 5
}
