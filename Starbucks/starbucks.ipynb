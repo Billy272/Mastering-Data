{
 "cells": [
  {
   "cell_type": "markdown",
   "metadata": {},
   "source": [
    "**Starbucks project in Data Analysis**\n"
   ]
  },
  {
   "cell_type": "code",
   "execution_count": 2,
   "metadata": {
    "ExecuteTime": {
     "end_time": "2024-01-29T10:10:48.136686645Z",
     "start_time": "2024-01-29T10:10:45.126685435Z"
    }
   },
   "outputs": [
    {
     "name": "stdout",
     "output_type": "stream",
     "text": [
      "         Beverage_category       Beverage      Beverage_prep  Calories  \\\n",
      "0                   Coffee  Brewed Coffee              Short         3   \n",
      "1                   Coffee  Brewed Coffee               Tall         4   \n",
      "2                   Coffee  Brewed Coffee             Grande         5   \n",
      "3                   Coffee  Brewed Coffee              Venti         5   \n",
      "4  Classic Espresso Drinks    Caffè Latte  Short Nonfat Milk        70   \n",
      "5  Classic Espresso Drinks    Caffè Latte            2% Milk       100   \n",
      "6  Classic Espresso Drinks    Caffè Latte            Soymilk        70   \n",
      "7  Classic Espresso Drinks    Caffè Latte   Tall Nonfat Milk       100   \n",
      "8  Classic Espresso Drinks    Caffè Latte            2% Milk       150   \n",
      "9  Classic Espresso Drinks    Caffè Latte            Soymilk       110   \n",
      "\n",
      "   Total Fat (g)  Trans Fat (g)   Saturated Fat (g)   Sodium (mg)  \\\n",
      "0            0.1             0.0                0.0             0   \n",
      "1            0.1             0.0                0.0             0   \n",
      "2            0.1             0.0                0.0             0   \n",
      "3            0.1             0.0                0.0             0   \n",
      "4            0.1             0.1                0.0             5   \n",
      "5            3.5             2.0                0.1            15   \n",
      "6            2.5             0.4                0.0             0   \n",
      "7            0.2             0.2                0.0             5   \n",
      "8              6             3.0                0.2            25   \n",
      "9            4.5             0.5                0.0             0   \n",
      "\n",
      "    Total Carbohydrates (g)   Cholesterol (mg)   Dietary Fibre (g)  \\\n",
      "0                          5                 0                   0   \n",
      "1                         10                 0                   0   \n",
      "2                         10                 0                   0   \n",
      "3                         10                 0                   0   \n",
      "4                         75                10                   0   \n",
      "5                         85                10                   0   \n",
      "6                         65                 6                   1   \n",
      "7                        120                15                   0   \n",
      "8                        135                15                   0   \n",
      "9                        105                10                   1   \n",
      "\n",
      "    Sugars (g)   Protein (g)  Vitamin A (% DV)  Vitamin C (% DV)  \\\n",
      "0            0            0.3                0%               0%   \n",
      "1            0            0.5                0%               0%   \n",
      "2            0            1.0                0%               0%   \n",
      "3            0            1.0                0%               0%   \n",
      "4            9            6.0               10%               0%   \n",
      "5            9            6.0               10%               0%   \n",
      "6            4            5.0                6%               0%   \n",
      "7           14           10.0               15%               0%   \n",
      "8           14           10.0               15%               0%   \n",
      "9            6            8.0               10%               0%   \n",
      "\n",
      "   Calcium (% DV)  Iron (% DV)  Caffeine (mg)  \n",
      "0               0%           0%           175  \n",
      "1               0%           0%           260  \n",
      "2               0%           0%           330  \n",
      "3               2%           0%           410  \n",
      "4              20%           0%            75  \n",
      "5              20%           0%            75  \n",
      "6              20%           8%            75  \n",
      "7              30%           0%            75  \n",
      "8              30%           0%            75  \n",
      "9              30%          15%            75  \n"
     ]
    }
   ],
   "source": [
    "import pandas as pd\n",
    "\n",
    "data = pd.read_csv(\"./starbucks.csv\")\n",
    "\n",
    "print(data.head(10))"
   ]
  },
  {
   "cell_type": "code",
   "execution_count": 3,
   "metadata": {
    "ExecuteTime": {
     "end_time": "2024-01-29T10:10:48.738492079Z",
     "start_time": "2024-01-29T10:10:48.090398183Z"
    }
   },
   "outputs": [
    {
     "name": "stdout",
     "output_type": "stream",
     "text": [
      "<class 'pandas.core.frame.DataFrame'>\n",
      "RangeIndex: 242 entries, 0 to 241\n",
      "Data columns (total 18 columns):\n",
      " #   Column                     Non-Null Count  Dtype  \n",
      "---  ------                     --------------  -----  \n",
      " 0   Beverage_category          242 non-null    object \n",
      " 1   Beverage                   242 non-null    object \n",
      " 2   Beverage_prep              242 non-null    object \n",
      " 3   Calories                   242 non-null    int64  \n",
      " 4    Total Fat (g)             242 non-null    object \n",
      " 5   Trans Fat (g)              242 non-null    float64\n",
      " 6   Saturated Fat (g)          242 non-null    float64\n",
      " 7    Sodium (mg)               242 non-null    int64  \n",
      " 8    Total Carbohydrates (g)   242 non-null    int64  \n",
      " 9   Cholesterol (mg)           242 non-null    int64  \n",
      " 10   Dietary Fibre (g)         242 non-null    int64  \n",
      " 11   Sugars (g)                242 non-null    int64  \n",
      " 12   Protein (g)               242 non-null    float64\n",
      " 13  Vitamin A (% DV)           242 non-null    object \n",
      " 14  Vitamin C (% DV)           242 non-null    object \n",
      " 15   Calcium (% DV)            242 non-null    object \n",
      " 16  Iron (% DV)                242 non-null    object \n",
      " 17  Caffeine (mg)              241 non-null    object \n",
      "dtypes: float64(3), int64(6), object(9)\n",
      "memory usage: 34.2+ KB\n"
     ]
    }
   ],
   "source": [
    "data.info()"
   ]
  },
  {
   "cell_type": "markdown",
   "metadata": {},
   "source": [
    "**Data Cleaning**"
   ]
  },
  {
   "cell_type": "code",
   "execution_count": 4,
   "metadata": {
    "ExecuteTime": {
     "end_time": "2024-01-29T10:10:48.826521150Z",
     "start_time": "2024-01-29T10:10:48.197399785Z"
    }
   },
   "outputs": [
    {
     "data": {
      "text/plain": "Beverage_category            0\nBeverage                     0\nBeverage_prep                0\nCalories                     0\n Total Fat (g)               0\nTrans Fat (g)                0\nSaturated Fat (g)            0\n Sodium (mg)                 0\n Total Carbohydrates (g)     0\nCholesterol (mg)             0\n Dietary Fibre (g)           0\n Sugars (g)                  0\n Protein (g)                 0\nVitamin A (% DV)             0\nVitamin C (% DV)             0\n Calcium (% DV)              0\nIron (% DV)                  0\nCaffeine (mg)                1\ndtype: int64"
     },
     "execution_count": 4,
     "metadata": {},
     "output_type": "execute_result"
    }
   ],
   "source": [
    "data.isnull().sum()"
   ]
  },
  {
   "cell_type": "code",
   "execution_count": 5,
   "metadata": {
    "ExecuteTime": {
     "end_time": "2024-01-29T10:10:49.048688925Z",
     "start_time": "2024-01-29T10:10:48.318291454Z"
    }
   },
   "outputs": [
    {
     "name": "stdout",
     "output_type": "stream",
     "text": [
      "<class 'pandas.core.frame.DataFrame'>\n",
      "Int64Index: 241 entries, 0 to 241\n",
      "Data columns (total 18 columns):\n",
      " #   Column                     Non-Null Count  Dtype  \n",
      "---  ------                     --------------  -----  \n",
      " 0   Beverage_category          241 non-null    object \n",
      " 1   Beverage                   241 non-null    object \n",
      " 2   Beverage_prep              241 non-null    object \n",
      " 3   Calories                   241 non-null    int64  \n",
      " 4    Total Fat (g)             241 non-null    object \n",
      " 5   Trans Fat (g)              241 non-null    float64\n",
      " 6   Saturated Fat (g)          241 non-null    float64\n",
      " 7    Sodium (mg)               241 non-null    int64  \n",
      " 8    Total Carbohydrates (g)   241 non-null    int64  \n",
      " 9   Cholesterol (mg)           241 non-null    int64  \n",
      " 10   Dietary Fibre (g)         241 non-null    int64  \n",
      " 11   Sugars (g)                241 non-null    int64  \n",
      " 12   Protein (g)               241 non-null    float64\n",
      " 13  Vitamin A (% DV)           241 non-null    object \n",
      " 14  Vitamin C (% DV)           241 non-null    object \n",
      " 15   Calcium (% DV)            241 non-null    object \n",
      " 16  Iron (% DV)                241 non-null    object \n",
      " 17  Caffeine (mg)              241 non-null    object \n",
      "dtypes: float64(3), int64(6), object(9)\n",
      "memory usage: 35.8+ KB\n"
     ]
    }
   ],
   "source": [
    "import numpy as np\n",
    "\n",
    "caffeine = 'Caffeine (mg)'\n",
    "\n",
    "data[caffeine].isnull().sum()\n",
    "\n",
    "data.dropna(subset=[caffeine], inplace=True)\n",
    "\n",
    "\n",
    "data[caffeine].isnull().sum()\n",
    "\n",
    "data.info()\n"
   ]
  },
  {
   "cell_type": "markdown",
   "metadata": {},
   "source": [
    "*Find duplicates*"
   ]
  },
  {
   "cell_type": "code",
   "execution_count": 6,
   "metadata": {
    "ExecuteTime": {
     "end_time": "2024-01-29T10:10:49.103074319Z",
     "start_time": "2024-01-29T10:10:48.459128167Z"
    }
   },
   "outputs": [
    {
     "data": {
      "text/plain": "0      False\n1      False\n2      False\n3      False\n4      False\n       ...  \n237    False\n238    False\n239    False\n240    False\n241    False\nLength: 241, dtype: bool"
     },
     "execution_count": 6,
     "metadata": {},
     "output_type": "execute_result"
    }
   ],
   "source": [
    "data.duplicated()"
   ]
  },
  {
   "cell_type": "markdown",
   "metadata": {},
   "source": [
    "Finding outliers"
   ]
  },
  {
   "cell_type": "code",
   "execution_count": 7,
   "metadata": {
    "ExecuteTime": {
     "end_time": "2024-01-29T10:10:49.243046104Z",
     "start_time": "2024-01-29T10:10:48.501750694Z"
    }
   },
   "outputs": [
    {
     "data": {
      "text/plain": "         Calories  Trans Fat (g)   Saturated Fat (g)   Sodium (mg)  \\\ncount  241.000000      241.000000         241.000000    241.000000   \nmean   194.302905        1.310373           0.037759      6.369295   \nstd    102.858173        1.642843           0.071484      8.647768   \nmin      0.000000        0.000000           0.000000      0.000000   \n25%    120.000000        0.100000           0.000000      0.000000   \n50%    190.000000        0.500000           0.000000      5.000000   \n75%    260.000000        2.000000           0.100000     10.000000   \nmax    510.000000        9.000000           0.300000     40.000000   \n\n        Total Carbohydrates (g)   Cholesterol (mg)   Dietary Fibre (g)  \\\ncount                 241.000000        241.000000          241.000000   \nmean                  129.315353         36.066390            0.809129   \nstd                    82.200315         20.805942            1.448016   \nmin                     0.000000          0.000000            0.000000   \n25%                    70.000000         21.000000            0.000000   \n50%                   125.000000         34.000000            0.000000   \n75%                   170.000000         51.000000            1.000000   \nmax                   340.000000         90.000000            8.000000   \n\n        Sugars (g)   Protein (g)   \ncount   241.000000     241.000000  \nmean     33.024896       6.999170  \nstd      19.747558       4.871165  \nmin       0.000000       0.000000  \n25%      18.000000       3.000000  \n50%      32.000000       6.000000  \n75%      44.000000      10.000000  \nmax      84.000000      20.000000  ",
      "text/html": "<div>\n<style scoped>\n    .dataframe tbody tr th:only-of-type {\n        vertical-align: middle;\n    }\n\n    .dataframe tbody tr th {\n        vertical-align: top;\n    }\n\n    .dataframe thead th {\n        text-align: right;\n    }\n</style>\n<table border=\"1\" class=\"dataframe\">\n  <thead>\n    <tr style=\"text-align: right;\">\n      <th></th>\n      <th>Calories</th>\n      <th>Trans Fat (g)</th>\n      <th>Saturated Fat (g)</th>\n      <th>Sodium (mg)</th>\n      <th>Total Carbohydrates (g)</th>\n      <th>Cholesterol (mg)</th>\n      <th>Dietary Fibre (g)</th>\n      <th>Sugars (g)</th>\n      <th>Protein (g)</th>\n    </tr>\n  </thead>\n  <tbody>\n    <tr>\n      <th>count</th>\n      <td>241.000000</td>\n      <td>241.000000</td>\n      <td>241.000000</td>\n      <td>241.000000</td>\n      <td>241.000000</td>\n      <td>241.000000</td>\n      <td>241.000000</td>\n      <td>241.000000</td>\n      <td>241.000000</td>\n    </tr>\n    <tr>\n      <th>mean</th>\n      <td>194.302905</td>\n      <td>1.310373</td>\n      <td>0.037759</td>\n      <td>6.369295</td>\n      <td>129.315353</td>\n      <td>36.066390</td>\n      <td>0.809129</td>\n      <td>33.024896</td>\n      <td>6.999170</td>\n    </tr>\n    <tr>\n      <th>std</th>\n      <td>102.858173</td>\n      <td>1.642843</td>\n      <td>0.071484</td>\n      <td>8.647768</td>\n      <td>82.200315</td>\n      <td>20.805942</td>\n      <td>1.448016</td>\n      <td>19.747558</td>\n      <td>4.871165</td>\n    </tr>\n    <tr>\n      <th>min</th>\n      <td>0.000000</td>\n      <td>0.000000</td>\n      <td>0.000000</td>\n      <td>0.000000</td>\n      <td>0.000000</td>\n      <td>0.000000</td>\n      <td>0.000000</td>\n      <td>0.000000</td>\n      <td>0.000000</td>\n    </tr>\n    <tr>\n      <th>25%</th>\n      <td>120.000000</td>\n      <td>0.100000</td>\n      <td>0.000000</td>\n      <td>0.000000</td>\n      <td>70.000000</td>\n      <td>21.000000</td>\n      <td>0.000000</td>\n      <td>18.000000</td>\n      <td>3.000000</td>\n    </tr>\n    <tr>\n      <th>50%</th>\n      <td>190.000000</td>\n      <td>0.500000</td>\n      <td>0.000000</td>\n      <td>5.000000</td>\n      <td>125.000000</td>\n      <td>34.000000</td>\n      <td>0.000000</td>\n      <td>32.000000</td>\n      <td>6.000000</td>\n    </tr>\n    <tr>\n      <th>75%</th>\n      <td>260.000000</td>\n      <td>2.000000</td>\n      <td>0.100000</td>\n      <td>10.000000</td>\n      <td>170.000000</td>\n      <td>51.000000</td>\n      <td>1.000000</td>\n      <td>44.000000</td>\n      <td>10.000000</td>\n    </tr>\n    <tr>\n      <th>max</th>\n      <td>510.000000</td>\n      <td>9.000000</td>\n      <td>0.300000</td>\n      <td>40.000000</td>\n      <td>340.000000</td>\n      <td>90.000000</td>\n      <td>8.000000</td>\n      <td>84.000000</td>\n      <td>20.000000</td>\n    </tr>\n  </tbody>\n</table>\n</div>"
     },
     "execution_count": 7,
     "metadata": {},
     "output_type": "execute_result"
    }
   ],
   "source": [
    "#find outliers\n",
    "data.describe()"
   ]
  }
 ],
 "metadata": {
  "kernelspec": {
   "display_name": "Python 3",
   "language": "python",
   "name": "python3"
  },
  "language_info": {
   "codemirror_mode": {
    "name": "ipython",
    "version": 3
   },
   "file_extension": ".py",
   "mimetype": "text/x-python",
   "name": "python",
   "nbconvert_exporter": "python",
   "pygments_lexer": "ipython3",
   "version": "3.11.6"
  }
 },
 "nbformat": 4,
 "nbformat_minor": 2
}
