{
 "cells": [
  {
   "cell_type": "markdown",
   "source": [
    "***Google Monthly Stock Prediction***\n",
    "\n",
    "Using the dataset from kaggle.com. I will use it to build a model that predicts the stock price of Google for the \n",
    "next month. The dataset contains 4 mainly needed columns to complete the prediction. Opening and Closing of stock \n",
    "will be of great value here. This will form a model on its own and then a model for low and high stock price will be\n",
    "built."
   ],
   "metadata": {
    "collapsed": false
   },
   "id": "3a0cf200551d2743"
  },
  {
   "cell_type": "code",
   "execution_count": 1,
   "id": "initial_id",
   "metadata": {
    "collapsed": true,
    "ExecuteTime": {
     "end_time": "2024-03-29T15:53:57.373288Z",
     "start_time": "2024-03-29T15:53:54.433677Z"
    }
   },
   "outputs": [
    {
     "data": {
      "text/plain": "           Date        Open        High         Low       Close   Adj Close  \\\n231  2023-12-01  133.320007  143.945007  129.399994  140.929993  140.929993   \n232  2024-01-01  139.600006  155.199997  136.850006  141.800003  141.800003   \n233  2024-02-01  143.690002  150.695007  136.639999  139.779999  139.779999   \n234  2024-03-01  139.610001  153.199997  131.550003  152.259995  152.259995   \n235  2024-03-28  152.000000  152.669998  151.330002  152.259995  152.259995   \n\n        Volume  \n231  482059400  \n232  428771200  \n233  475231400  \n234  507008200  \n235   20971645  ",
      "text/html": "<div>\n<style scoped>\n    .dataframe tbody tr th:only-of-type {\n        vertical-align: middle;\n    }\n\n    .dataframe tbody tr th {\n        vertical-align: top;\n    }\n\n    .dataframe thead th {\n        text-align: right;\n    }\n</style>\n<table border=\"1\" class=\"dataframe\">\n  <thead>\n    <tr style=\"text-align: right;\">\n      <th></th>\n      <th>Date</th>\n      <th>Open</th>\n      <th>High</th>\n      <th>Low</th>\n      <th>Close</th>\n      <th>Adj Close</th>\n      <th>Volume</th>\n    </tr>\n  </thead>\n  <tbody>\n    <tr>\n      <th>231</th>\n      <td>2023-12-01</td>\n      <td>133.320007</td>\n      <td>143.945007</td>\n      <td>129.399994</td>\n      <td>140.929993</td>\n      <td>140.929993</td>\n      <td>482059400</td>\n    </tr>\n    <tr>\n      <th>232</th>\n      <td>2024-01-01</td>\n      <td>139.600006</td>\n      <td>155.199997</td>\n      <td>136.850006</td>\n      <td>141.800003</td>\n      <td>141.800003</td>\n      <td>428771200</td>\n    </tr>\n    <tr>\n      <th>233</th>\n      <td>2024-02-01</td>\n      <td>143.690002</td>\n      <td>150.695007</td>\n      <td>136.639999</td>\n      <td>139.779999</td>\n      <td>139.779999</td>\n      <td>475231400</td>\n    </tr>\n    <tr>\n      <th>234</th>\n      <td>2024-03-01</td>\n      <td>139.610001</td>\n      <td>153.199997</td>\n      <td>131.550003</td>\n      <td>152.259995</td>\n      <td>152.259995</td>\n      <td>507008200</td>\n    </tr>\n    <tr>\n      <th>235</th>\n      <td>2024-03-28</td>\n      <td>152.000000</td>\n      <td>152.669998</td>\n      <td>151.330002</td>\n      <td>152.259995</td>\n      <td>152.259995</td>\n      <td>20971645</td>\n    </tr>\n  </tbody>\n</table>\n</div>"
     },
     "execution_count": 1,
     "metadata": {},
     "output_type": "execute_result"
    }
   ],
   "source": [
    "import pandas as pd\n",
    "\n",
    "data = pd.read_csv('GOOGLE_monthly.csv')\n",
    "\n",
    "data.tail()"
   ]
  }
 ],
 "metadata": {
  "kernelspec": {
   "display_name": "Python 3",
   "language": "python",
   "name": "python3"
  },
  "language_info": {
   "codemirror_mode": {
    "name": "ipython",
    "version": 2
   },
   "file_extension": ".py",
   "mimetype": "text/x-python",
   "name": "python",
   "nbconvert_exporter": "python",
   "pygments_lexer": "ipython2",
   "version": "2.7.6"
  }
 },
 "nbformat": 4,
 "nbformat_minor": 5
}
