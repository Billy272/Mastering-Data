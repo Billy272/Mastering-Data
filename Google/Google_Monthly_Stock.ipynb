{
 "cells": [
  {
   "cell_type": "markdown",
   "source": [
    "***Google Monthly Stock Prediction***\n",
    "\n",
    "Using the dataset from kaggle.com. I will use it to build a model that predicts the stock price of Google for the \n",
    "next month. The dataset contains 4 mainly needed columns to complete the prediction. Opening and Closing of stock \n",
    "will be of great value here. This will form a model on its own and then a model for low and high stock price will be\n",
    "built."
   ],
   "metadata": {
    "collapsed": false
   },
   "id": "3a0cf200551d2743"
  },
  {
   "cell_type": "markdown",
   "source": [
    "First, let's load the dataset and see what we have in it."
   ],
   "metadata": {
    "collapsed": false
   },
   "id": "99e69fc4cd99a495"
  },
  {
   "cell_type": "code",
   "execution_count": 1,
   "id": "initial_id",
   "metadata": {
    "collapsed": true,
    "ExecuteTime": {
     "end_time": "2024-03-29T15:53:57.373288Z",
     "start_time": "2024-03-29T15:53:54.433677Z"
    }
   },
   "outputs": [
    {
     "data": {
      "text/plain": "           Date        Open        High         Low       Close   Adj Close  \\\n231  2023-12-01  133.320007  143.945007  129.399994  140.929993  140.929993   \n232  2024-01-01  139.600006  155.199997  136.850006  141.800003  141.800003   \n233  2024-02-01  143.690002  150.695007  136.639999  139.779999  139.779999   \n234  2024-03-01  139.610001  153.199997  131.550003  152.259995  152.259995   \n235  2024-03-28  152.000000  152.669998  151.330002  152.259995  152.259995   \n\n        Volume  \n231  482059400  \n232  428771200  \n233  475231400  \n234  507008200  \n235   20971645  ",
      "text/html": "<div>\n<style scoped>\n    .dataframe tbody tr th:only-of-type {\n        vertical-align: middle;\n    }\n\n    .dataframe tbody tr th {\n        vertical-align: top;\n    }\n\n    .dataframe thead th {\n        text-align: right;\n    }\n</style>\n<table border=\"1\" class=\"dataframe\">\n  <thead>\n    <tr style=\"text-align: right;\">\n      <th></th>\n      <th>Date</th>\n      <th>Open</th>\n      <th>High</th>\n      <th>Low</th>\n      <th>Close</th>\n      <th>Adj Close</th>\n      <th>Volume</th>\n    </tr>\n  </thead>\n  <tbody>\n    <tr>\n      <th>231</th>\n      <td>2023-12-01</td>\n      <td>133.320007</td>\n      <td>143.945007</td>\n      <td>129.399994</td>\n      <td>140.929993</td>\n      <td>140.929993</td>\n      <td>482059400</td>\n    </tr>\n    <tr>\n      <th>232</th>\n      <td>2024-01-01</td>\n      <td>139.600006</td>\n      <td>155.199997</td>\n      <td>136.850006</td>\n      <td>141.800003</td>\n      <td>141.800003</td>\n      <td>428771200</td>\n    </tr>\n    <tr>\n      <th>233</th>\n      <td>2024-02-01</td>\n      <td>143.690002</td>\n      <td>150.695007</td>\n      <td>136.639999</td>\n      <td>139.779999</td>\n      <td>139.779999</td>\n      <td>475231400</td>\n    </tr>\n    <tr>\n      <th>234</th>\n      <td>2024-03-01</td>\n      <td>139.610001</td>\n      <td>153.199997</td>\n      <td>131.550003</td>\n      <td>152.259995</td>\n      <td>152.259995</td>\n      <td>507008200</td>\n    </tr>\n    <tr>\n      <th>235</th>\n      <td>2024-03-28</td>\n      <td>152.000000</td>\n      <td>152.669998</td>\n      <td>151.330002</td>\n      <td>152.259995</td>\n      <td>152.259995</td>\n      <td>20971645</td>\n    </tr>\n  </tbody>\n</table>\n</div>"
     },
     "execution_count": 1,
     "metadata": {},
     "output_type": "execute_result"
    }
   ],
   "source": [
    "import pandas as pd\n",
    "\n",
    "data = pd.read_csv('GOOGLE_monthly.csv')\n",
    "\n",
    "data.tail()"
   ]
  },
  {
   "cell_type": "markdown",
   "source": [
    "The dataset contains 7 columns. We will be using the Date, Open, High, Low, Close, Volume(The number of shares traded\n",
    "on that month) and Adj Close(Adjusted closing price of the company's stock on that month) columns."
   ],
   "metadata": {
    "collapsed": false
   },
   "id": "70ab30dd9323e8d6"
  },
  {
   "cell_type": "code",
   "outputs": [
    {
     "name": "stdout",
     "output_type": "stream",
     "text": [
      "<class 'pandas.core.frame.DataFrame'>\n",
      "RangeIndex: 236 entries, 0 to 235\n",
      "Data columns (total 7 columns):\n",
      " #   Column     Non-Null Count  Dtype  \n",
      "---  ------     --------------  -----  \n",
      " 0   Date       236 non-null    object \n",
      " 1   Open       236 non-null    float64\n",
      " 2   High       236 non-null    float64\n",
      " 3   Low        236 non-null    float64\n",
      " 4   Close      236 non-null    float64\n",
      " 5   Adj Close  236 non-null    float64\n",
      " 6   Volume     236 non-null    int64  \n",
      "dtypes: float64(5), int64(1), object(1)\n",
      "memory usage: 13.0+ KB\n"
     ]
    }
   ],
   "source": [
    "data.info()"
   ],
   "metadata": {
    "collapsed": false,
    "ExecuteTime": {
     "end_time": "2024-03-29T16:14:35.772201Z",
     "start_time": "2024-03-29T16:14:35.673094Z"
    }
   },
   "id": "1229c43947827ef7",
   "execution_count": 2
  },
  {
   "cell_type": "markdown",
   "source": [
    "**Data Cleaning**"
   ],
   "metadata": {
    "collapsed": false
   },
   "id": "18186d5ff3a3cc94"
  },
  {
   "cell_type": "code",
   "outputs": [
    {
     "data": {
      "text/plain": "Date         0\nOpen         0\nHigh         0\nLow          0\nClose        0\nAdj Close    0\nVolume       0\ndtype: int64"
     },
     "execution_count": 4,
     "metadata": {},
     "output_type": "execute_result"
    }
   ],
   "source": [
    "data.isnull().sum()"
   ],
   "metadata": {
    "collapsed": false,
    "ExecuteTime": {
     "end_time": "2024-03-29T16:17:37.763955Z",
     "start_time": "2024-03-29T16:17:37.706116Z"
    }
   },
   "id": "1618e6982abc7204",
   "execution_count": 4
  },
  {
   "cell_type": "markdown",
   "source": [
    "There are no missing values in the dataset. "
   ],
   "metadata": {
    "collapsed": false
   },
   "id": "4bc20a52ff938a5b"
  },
  {
   "cell_type": "markdown",
   "source": [
    "**Data Visualization**\n",
    "\n",
    "We can now proceed to check the trends of the stock prices over the years. But first, we need to convert the Date \n",
    "column to datetime format."
   ],
   "metadata": {
    "collapsed": false
   },
   "id": "ffda5b6165128af7"
  },
  {
   "cell_type": "code",
   "outputs": [
    {
     "ename": "KeyError",
     "evalue": "'Date'",
     "output_type": "error",
     "traceback": [
      "\u001B[0;31m---------------------------------------------------------------------------\u001B[0m",
      "\u001B[0;31mKeyError\u001B[0m                                  Traceback (most recent call last)",
      "File \u001B[0;32m/usr/lib/python3/dist-packages/pandas/core/indexes/base.py:3802\u001B[0m, in \u001B[0;36mIndex.get_loc\u001B[0;34m(self, key, method, tolerance)\u001B[0m\n\u001B[1;32m   3801\u001B[0m \u001B[38;5;28;01mtry\u001B[39;00m:\n\u001B[0;32m-> 3802\u001B[0m     \u001B[38;5;28;01mreturn\u001B[39;00m \u001B[38;5;28;43mself\u001B[39;49m\u001B[38;5;241;43m.\u001B[39;49m\u001B[43m_engine\u001B[49m\u001B[38;5;241;43m.\u001B[39;49m\u001B[43mget_loc\u001B[49m\u001B[43m(\u001B[49m\u001B[43mcasted_key\u001B[49m\u001B[43m)\u001B[49m\n\u001B[1;32m   3803\u001B[0m \u001B[38;5;28;01mexcept\u001B[39;00m \u001B[38;5;167;01mKeyError\u001B[39;00m \u001B[38;5;28;01mas\u001B[39;00m err:\n",
      "File \u001B[0;32m/usr/lib/python3/dist-packages/pandas/_libs/index.pyx:138\u001B[0m, in \u001B[0;36mpandas._libs.index.IndexEngine.get_loc\u001B[0;34m()\u001B[0m\n",
      "File \u001B[0;32m/usr/lib/python3/dist-packages/pandas/_libs/index.pyx:165\u001B[0m, in \u001B[0;36mpandas._libs.index.IndexEngine.get_loc\u001B[0;34m()\u001B[0m\n",
      "File \u001B[0;32mpandas/_libs/hashtable_class_helper.pxi:5745\u001B[0m, in \u001B[0;36mpandas._libs.hashtable.PyObjectHashTable.get_item\u001B[0;34m()\u001B[0m\n",
      "File \u001B[0;32mpandas/_libs/hashtable_class_helper.pxi:5753\u001B[0m, in \u001B[0;36mpandas._libs.hashtable.PyObjectHashTable.get_item\u001B[0;34m()\u001B[0m\n",
      "\u001B[0;31mKeyError\u001B[0m: 'Date'",
      "\nThe above exception was the direct cause of the following exception:\n",
      "\u001B[0;31mKeyError\u001B[0m                                  Traceback (most recent call last)",
      "Cell \u001B[0;32mIn[11], line 1\u001B[0m\n\u001B[0;32m----> 1\u001B[0m data[\u001B[38;5;124m'\u001B[39m\u001B[38;5;124mDate\u001B[39m\u001B[38;5;124m'\u001B[39m] \u001B[38;5;241m=\u001B[39m pd\u001B[38;5;241m.\u001B[39mto_datetime(\u001B[43mdata\u001B[49m\u001B[43m[\u001B[49m\u001B[38;5;124;43m'\u001B[39;49m\u001B[38;5;124;43mDate\u001B[39;49m\u001B[38;5;124;43m'\u001B[39;49m\u001B[43m]\u001B[49m)\n\u001B[1;32m      2\u001B[0m data\u001B[38;5;241m.\u001B[39mset_index(\u001B[38;5;124m'\u001B[39m\u001B[38;5;124mDate\u001B[39m\u001B[38;5;124m'\u001B[39m, inplace\u001B[38;5;241m=\u001B[39m\u001B[38;5;28;01mTrue\u001B[39;00m)\n\u001B[1;32m      3\u001B[0m data\u001B[38;5;241m.\u001B[39minfo()\n",
      "File \u001B[0;32m/usr/lib/python3/dist-packages/pandas/core/frame.py:3807\u001B[0m, in \u001B[0;36mDataFrame.__getitem__\u001B[0;34m(self, key)\u001B[0m\n\u001B[1;32m   3805\u001B[0m \u001B[38;5;28;01mif\u001B[39;00m \u001B[38;5;28mself\u001B[39m\u001B[38;5;241m.\u001B[39mcolumns\u001B[38;5;241m.\u001B[39mnlevels \u001B[38;5;241m>\u001B[39m \u001B[38;5;241m1\u001B[39m:\n\u001B[1;32m   3806\u001B[0m     \u001B[38;5;28;01mreturn\u001B[39;00m \u001B[38;5;28mself\u001B[39m\u001B[38;5;241m.\u001B[39m_getitem_multilevel(key)\n\u001B[0;32m-> 3807\u001B[0m indexer \u001B[38;5;241m=\u001B[39m \u001B[38;5;28;43mself\u001B[39;49m\u001B[38;5;241;43m.\u001B[39;49m\u001B[43mcolumns\u001B[49m\u001B[38;5;241;43m.\u001B[39;49m\u001B[43mget_loc\u001B[49m\u001B[43m(\u001B[49m\u001B[43mkey\u001B[49m\u001B[43m)\u001B[49m\n\u001B[1;32m   3808\u001B[0m \u001B[38;5;28;01mif\u001B[39;00m is_integer(indexer):\n\u001B[1;32m   3809\u001B[0m     indexer \u001B[38;5;241m=\u001B[39m [indexer]\n",
      "File \u001B[0;32m/usr/lib/python3/dist-packages/pandas/core/indexes/base.py:3804\u001B[0m, in \u001B[0;36mIndex.get_loc\u001B[0;34m(self, key, method, tolerance)\u001B[0m\n\u001B[1;32m   3802\u001B[0m     \u001B[38;5;28;01mreturn\u001B[39;00m \u001B[38;5;28mself\u001B[39m\u001B[38;5;241m.\u001B[39m_engine\u001B[38;5;241m.\u001B[39mget_loc(casted_key)\n\u001B[1;32m   3803\u001B[0m \u001B[38;5;28;01mexcept\u001B[39;00m \u001B[38;5;167;01mKeyError\u001B[39;00m \u001B[38;5;28;01mas\u001B[39;00m err:\n\u001B[0;32m-> 3804\u001B[0m     \u001B[38;5;28;01mraise\u001B[39;00m \u001B[38;5;167;01mKeyError\u001B[39;00m(key) \u001B[38;5;28;01mfrom\u001B[39;00m \u001B[38;5;21;01merr\u001B[39;00m\n\u001B[1;32m   3805\u001B[0m \u001B[38;5;28;01mexcept\u001B[39;00m \u001B[38;5;167;01mTypeError\u001B[39;00m:\n\u001B[1;32m   3806\u001B[0m     \u001B[38;5;66;03m# If we have a listlike key, _check_indexing_error will raise\u001B[39;00m\n\u001B[1;32m   3807\u001B[0m     \u001B[38;5;66;03m#  InvalidIndexError. Otherwise we fall through and re-raise\u001B[39;00m\n\u001B[1;32m   3808\u001B[0m     \u001B[38;5;66;03m#  the TypeError.\u001B[39;00m\n\u001B[1;32m   3809\u001B[0m     \u001B[38;5;28mself\u001B[39m\u001B[38;5;241m.\u001B[39m_check_indexing_error(key)\n",
      "\u001B[0;31mKeyError\u001B[0m: 'Date'"
     ]
    }
   ],
   "source": [
    "data['Date'] = pd.to_datetime(data['Date'])\n",
    "data.set_index('Date', inplace=True)\n",
    "data.info()"
   ],
   "metadata": {
    "collapsed": false,
    "ExecuteTime": {
     "end_time": "2024-03-29T16:29:25.992014Z",
     "start_time": "2024-03-29T16:29:25.040338Z"
    }
   },
   "id": "d6e77b0b68509bdd",
   "execution_count": 11
  }
 ],
 "metadata": {
  "kernelspec": {
   "display_name": "Python 3",
   "language": "python",
   "name": "python3"
  },
  "language_info": {
   "codemirror_mode": {
    "name": "ipython",
    "version": 2
   },
   "file_extension": ".py",
   "mimetype": "text/x-python",
   "name": "python",
   "nbconvert_exporter": "python",
   "pygments_lexer": "ipython2",
   "version": "2.7.6"
  }
 },
 "nbformat": 4,
 "nbformat_minor": 5
}
