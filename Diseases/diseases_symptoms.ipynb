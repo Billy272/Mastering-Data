{
 "cells": [
  {
   "cell_type": "markdown",
   "source": [
    "***DISEASES SYMPTOMS PREDICTION***"
   ],
   "metadata": {
    "collapsed": false
   },
   "id": "7421d5432dbd96d2"
  },
  {
   "cell_type": "code",
   "execution_count": 1,
   "id": "initial_id",
   "metadata": {
    "collapsed": true,
    "ExecuteTime": {
     "end_time": "2024-01-19T09:10:34.856786961Z",
     "start_time": "2024-01-19T09:10:34.435900993Z"
    }
   },
   "outputs": [
    {
     "data": {
      "text/plain": "           Disease Fever Cough Fatigue Difficulty Breathing  Age  Gender  \\\n0        Influenza   Yes    No     Yes                  Yes   19  Female   \n1      Common Cold    No   Yes     Yes                   No   25  Female   \n2           Eczema    No   Yes     Yes                   No   25  Female   \n3           Asthma   Yes   Yes      No                  Yes   25    Male   \n4           Asthma   Yes   Yes      No                  Yes   25    Male   \n5           Eczema   Yes    No      No                   No   25  Female   \n6        Influenza   Yes   Yes     Yes                  Yes   25  Female   \n7        Influenza   Yes   Yes     Yes                  Yes   25  Female   \n8  Hyperthyroidism    No   Yes      No                   No   28  Female   \n9  Hyperthyroidism    No   Yes      No                   No   28  Female   \n\n  Blood Pressure Cholesterol Level Outcome Variable  \n0            Low            Normal         Positive  \n1         Normal            Normal         Negative  \n2         Normal            Normal         Negative  \n3         Normal            Normal         Positive  \n4         Normal            Normal         Positive  \n5         Normal            Normal         Positive  \n6         Normal            Normal         Positive  \n7         Normal            Normal         Positive  \n8         Normal            Normal         Negative  \n9         Normal            Normal         Negative  ",
      "text/html": "<div>\n<style scoped>\n    .dataframe tbody tr th:only-of-type {\n        vertical-align: middle;\n    }\n\n    .dataframe tbody tr th {\n        vertical-align: top;\n    }\n\n    .dataframe thead th {\n        text-align: right;\n    }\n</style>\n<table border=\"1\" class=\"dataframe\">\n  <thead>\n    <tr style=\"text-align: right;\">\n      <th></th>\n      <th>Disease</th>\n      <th>Fever</th>\n      <th>Cough</th>\n      <th>Fatigue</th>\n      <th>Difficulty Breathing</th>\n      <th>Age</th>\n      <th>Gender</th>\n      <th>Blood Pressure</th>\n      <th>Cholesterol Level</th>\n      <th>Outcome Variable</th>\n    </tr>\n  </thead>\n  <tbody>\n    <tr>\n      <th>0</th>\n      <td>Influenza</td>\n      <td>Yes</td>\n      <td>No</td>\n      <td>Yes</td>\n      <td>Yes</td>\n      <td>19</td>\n      <td>Female</td>\n      <td>Low</td>\n      <td>Normal</td>\n      <td>Positive</td>\n    </tr>\n    <tr>\n      <th>1</th>\n      <td>Common Cold</td>\n      <td>No</td>\n      <td>Yes</td>\n      <td>Yes</td>\n      <td>No</td>\n      <td>25</td>\n      <td>Female</td>\n      <td>Normal</td>\n      <td>Normal</td>\n      <td>Negative</td>\n    </tr>\n    <tr>\n      <th>2</th>\n      <td>Eczema</td>\n      <td>No</td>\n      <td>Yes</td>\n      <td>Yes</td>\n      <td>No</td>\n      <td>25</td>\n      <td>Female</td>\n      <td>Normal</td>\n      <td>Normal</td>\n      <td>Negative</td>\n    </tr>\n    <tr>\n      <th>3</th>\n      <td>Asthma</td>\n      <td>Yes</td>\n      <td>Yes</td>\n      <td>No</td>\n      <td>Yes</td>\n      <td>25</td>\n      <td>Male</td>\n      <td>Normal</td>\n      <td>Normal</td>\n      <td>Positive</td>\n    </tr>\n    <tr>\n      <th>4</th>\n      <td>Asthma</td>\n      <td>Yes</td>\n      <td>Yes</td>\n      <td>No</td>\n      <td>Yes</td>\n      <td>25</td>\n      <td>Male</td>\n      <td>Normal</td>\n      <td>Normal</td>\n      <td>Positive</td>\n    </tr>\n    <tr>\n      <th>5</th>\n      <td>Eczema</td>\n      <td>Yes</td>\n      <td>No</td>\n      <td>No</td>\n      <td>No</td>\n      <td>25</td>\n      <td>Female</td>\n      <td>Normal</td>\n      <td>Normal</td>\n      <td>Positive</td>\n    </tr>\n    <tr>\n      <th>6</th>\n      <td>Influenza</td>\n      <td>Yes</td>\n      <td>Yes</td>\n      <td>Yes</td>\n      <td>Yes</td>\n      <td>25</td>\n      <td>Female</td>\n      <td>Normal</td>\n      <td>Normal</td>\n      <td>Positive</td>\n    </tr>\n    <tr>\n      <th>7</th>\n      <td>Influenza</td>\n      <td>Yes</td>\n      <td>Yes</td>\n      <td>Yes</td>\n      <td>Yes</td>\n      <td>25</td>\n      <td>Female</td>\n      <td>Normal</td>\n      <td>Normal</td>\n      <td>Positive</td>\n    </tr>\n    <tr>\n      <th>8</th>\n      <td>Hyperthyroidism</td>\n      <td>No</td>\n      <td>Yes</td>\n      <td>No</td>\n      <td>No</td>\n      <td>28</td>\n      <td>Female</td>\n      <td>Normal</td>\n      <td>Normal</td>\n      <td>Negative</td>\n    </tr>\n    <tr>\n      <th>9</th>\n      <td>Hyperthyroidism</td>\n      <td>No</td>\n      <td>Yes</td>\n      <td>No</td>\n      <td>No</td>\n      <td>28</td>\n      <td>Female</td>\n      <td>Normal</td>\n      <td>Normal</td>\n      <td>Negative</td>\n    </tr>\n  </tbody>\n</table>\n</div>"
     },
     "execution_count": 1,
     "metadata": {},
     "output_type": "execute_result"
    }
   ],
   "source": [
    "import pandas as pd\n",
    "\n",
    "data = pd.read_csv('./Disease_symptom_and_patient_profile_dataset.csv')\n",
    "data.head(10)"
   ]
  },
  {
   "cell_type": "code",
   "outputs": [
    {
     "data": {
      "text/plain": "(349, 10)"
     },
     "execution_count": 3,
     "metadata": {},
     "output_type": "execute_result"
    }
   ],
   "source": [
    "data.shape"
   ],
   "metadata": {
    "collapsed": false,
    "ExecuteTime": {
     "end_time": "2024-01-19T09:12:02.267629952Z",
     "start_time": "2024-01-19T09:12:01.880647007Z"
    }
   },
   "id": "8646736ce59106f0",
   "execution_count": 3
  }
 ],
 "metadata": {
  "kernelspec": {
   "display_name": "Python 3",
   "language": "python",
   "name": "python3"
  },
  "language_info": {
   "codemirror_mode": {
    "name": "ipython",
    "version": 2
   },
   "file_extension": ".py",
   "mimetype": "text/x-python",
   "name": "python",
   "nbconvert_exporter": "python",
   "pygments_lexer": "ipython2",
   "version": "2.7.6"
  }
 },
 "nbformat": 4,
 "nbformat_minor": 5
}
