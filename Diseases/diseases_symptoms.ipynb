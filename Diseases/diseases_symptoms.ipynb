{
 "cells": [
  {
   "cell_type": "markdown",
   "id": "7421d5432dbd96d2",
   "metadata": {
    "collapsed": false
   },
   "source": [
    "***DISEASES SYMPTOMS PREDICTION***"
   ]
  },
  {
   "cell_type": "markdown",
   "id": "94003bf71bb50ea4",
   "metadata": {
    "collapsed": false
   },
   "source": [
    "**Importing of Dataset**"
   ]
  },
  {
   "cell_type": "code",
   "execution_count": 2,
   "id": "initial_id",
   "metadata": {
    "ExecuteTime": {
     "end_time": "2024-01-31T19:07:56.008324677Z",
     "start_time": "2024-01-31T19:07:43.304759226Z"
    },
    "collapsed": true
   },
   "outputs": [
    {
     "data": {
      "text/html": [
       "<div>\n",
       "<style scoped>\n",
       "    .dataframe tbody tr th:only-of-type {\n",
       "        vertical-align: middle;\n",
       "    }\n",
       "\n",
       "    .dataframe tbody tr th {\n",
       "        vertical-align: top;\n",
       "    }\n",
       "\n",
       "    .dataframe thead th {\n",
       "        text-align: right;\n",
       "    }\n",
       "</style>\n",
       "<table border=\"1\" class=\"dataframe\">\n",
       "  <thead>\n",
       "    <tr style=\"text-align: right;\">\n",
       "      <th></th>\n",
       "      <th>Disease</th>\n",
       "      <th>Fever</th>\n",
       "      <th>Cough</th>\n",
       "      <th>Fatigue</th>\n",
       "      <th>Difficulty Breathing</th>\n",
       "      <th>Age</th>\n",
       "      <th>Gender</th>\n",
       "      <th>Blood Pressure</th>\n",
       "      <th>Cholesterol Level</th>\n",
       "      <th>Outcome Variable</th>\n",
       "    </tr>\n",
       "  </thead>\n",
       "  <tbody>\n",
       "    <tr>\n",
       "      <th>0</th>\n",
       "      <td>Influenza</td>\n",
       "      <td>Yes</td>\n",
       "      <td>No</td>\n",
       "      <td>Yes</td>\n",
       "      <td>Yes</td>\n",
       "      <td>19</td>\n",
       "      <td>Female</td>\n",
       "      <td>Low</td>\n",
       "      <td>Normal</td>\n",
       "      <td>Positive</td>\n",
       "    </tr>\n",
       "    <tr>\n",
       "      <th>1</th>\n",
       "      <td>Common Cold</td>\n",
       "      <td>No</td>\n",
       "      <td>Yes</td>\n",
       "      <td>Yes</td>\n",
       "      <td>No</td>\n",
       "      <td>25</td>\n",
       "      <td>Female</td>\n",
       "      <td>Normal</td>\n",
       "      <td>Normal</td>\n",
       "      <td>Negative</td>\n",
       "    </tr>\n",
       "    <tr>\n",
       "      <th>2</th>\n",
       "      <td>Eczema</td>\n",
       "      <td>No</td>\n",
       "      <td>Yes</td>\n",
       "      <td>Yes</td>\n",
       "      <td>No</td>\n",
       "      <td>25</td>\n",
       "      <td>Female</td>\n",
       "      <td>Normal</td>\n",
       "      <td>Normal</td>\n",
       "      <td>Negative</td>\n",
       "    </tr>\n",
       "    <tr>\n",
       "      <th>3</th>\n",
       "      <td>Asthma</td>\n",
       "      <td>Yes</td>\n",
       "      <td>Yes</td>\n",
       "      <td>No</td>\n",
       "      <td>Yes</td>\n",
       "      <td>25</td>\n",
       "      <td>Male</td>\n",
       "      <td>Normal</td>\n",
       "      <td>Normal</td>\n",
       "      <td>Positive</td>\n",
       "    </tr>\n",
       "    <tr>\n",
       "      <th>4</th>\n",
       "      <td>Asthma</td>\n",
       "      <td>Yes</td>\n",
       "      <td>Yes</td>\n",
       "      <td>No</td>\n",
       "      <td>Yes</td>\n",
       "      <td>25</td>\n",
       "      <td>Male</td>\n",
       "      <td>Normal</td>\n",
       "      <td>Normal</td>\n",
       "      <td>Positive</td>\n",
       "    </tr>\n",
       "    <tr>\n",
       "      <th>5</th>\n",
       "      <td>Eczema</td>\n",
       "      <td>Yes</td>\n",
       "      <td>No</td>\n",
       "      <td>No</td>\n",
       "      <td>No</td>\n",
       "      <td>25</td>\n",
       "      <td>Female</td>\n",
       "      <td>Normal</td>\n",
       "      <td>Normal</td>\n",
       "      <td>Positive</td>\n",
       "    </tr>\n",
       "    <tr>\n",
       "      <th>6</th>\n",
       "      <td>Influenza</td>\n",
       "      <td>Yes</td>\n",
       "      <td>Yes</td>\n",
       "      <td>Yes</td>\n",
       "      <td>Yes</td>\n",
       "      <td>25</td>\n",
       "      <td>Female</td>\n",
       "      <td>Normal</td>\n",
       "      <td>Normal</td>\n",
       "      <td>Positive</td>\n",
       "    </tr>\n",
       "    <tr>\n",
       "      <th>7</th>\n",
       "      <td>Influenza</td>\n",
       "      <td>Yes</td>\n",
       "      <td>Yes</td>\n",
       "      <td>Yes</td>\n",
       "      <td>Yes</td>\n",
       "      <td>25</td>\n",
       "      <td>Female</td>\n",
       "      <td>Normal</td>\n",
       "      <td>Normal</td>\n",
       "      <td>Positive</td>\n",
       "    </tr>\n",
       "    <tr>\n",
       "      <th>8</th>\n",
       "      <td>Hyperthyroidism</td>\n",
       "      <td>No</td>\n",
       "      <td>Yes</td>\n",
       "      <td>No</td>\n",
       "      <td>No</td>\n",
       "      <td>28</td>\n",
       "      <td>Female</td>\n",
       "      <td>Normal</td>\n",
       "      <td>Normal</td>\n",
       "      <td>Negative</td>\n",
       "    </tr>\n",
       "    <tr>\n",
       "      <th>9</th>\n",
       "      <td>Hyperthyroidism</td>\n",
       "      <td>No</td>\n",
       "      <td>Yes</td>\n",
       "      <td>No</td>\n",
       "      <td>No</td>\n",
       "      <td>28</td>\n",
       "      <td>Female</td>\n",
       "      <td>Normal</td>\n",
       "      <td>Normal</td>\n",
       "      <td>Negative</td>\n",
       "    </tr>\n",
       "  </tbody>\n",
       "</table>\n",
       "</div>"
      ],
      "text/plain": [
       "           Disease Fever Cough Fatigue Difficulty Breathing  Age  Gender  \\\n",
       "0        Influenza   Yes    No     Yes                  Yes   19  Female   \n",
       "1      Common Cold    No   Yes     Yes                   No   25  Female   \n",
       "2           Eczema    No   Yes     Yes                   No   25  Female   \n",
       "3           Asthma   Yes   Yes      No                  Yes   25    Male   \n",
       "4           Asthma   Yes   Yes      No                  Yes   25    Male   \n",
       "5           Eczema   Yes    No      No                   No   25  Female   \n",
       "6        Influenza   Yes   Yes     Yes                  Yes   25  Female   \n",
       "7        Influenza   Yes   Yes     Yes                  Yes   25  Female   \n",
       "8  Hyperthyroidism    No   Yes      No                   No   28  Female   \n",
       "9  Hyperthyroidism    No   Yes      No                   No   28  Female   \n",
       "\n",
       "  Blood Pressure Cholesterol Level Outcome Variable  \n",
       "0            Low            Normal         Positive  \n",
       "1         Normal            Normal         Negative  \n",
       "2         Normal            Normal         Negative  \n",
       "3         Normal            Normal         Positive  \n",
       "4         Normal            Normal         Positive  \n",
       "5         Normal            Normal         Positive  \n",
       "6         Normal            Normal         Positive  \n",
       "7         Normal            Normal         Positive  \n",
       "8         Normal            Normal         Negative  \n",
       "9         Normal            Normal         Negative  "
      ]
     },
     "execution_count": 2,
     "metadata": {},
     "output_type": "execute_result"
    }
   ],
   "source": [
    "import pandas as pd\n",
    "\n",
    "data = pd.read_csv('./Disease_symptom_and_patient_profile_dataset.csv')\n",
    "data.head(10)"
   ]
  },
  {
   "cell_type": "code",
   "execution_count": 3,
   "id": "8646736ce59106f0",
   "metadata": {
    "ExecuteTime": {
     "end_time": "2024-01-31T19:07:56.332689734Z",
     "start_time": "2024-01-31T19:07:55.721216120Z"
    },
    "collapsed": false
   },
   "outputs": [
    {
     "data": {
      "text/plain": [
       "(349, 10)"
      ]
     },
     "execution_count": 3,
     "metadata": {},
     "output_type": "execute_result"
    }
   ],
   "source": [
    "data.shape"
   ]
  },
  {
   "cell_type": "markdown",
   "id": "fb2b5febe6e7bd44",
   "metadata": {
    "collapsed": false
   },
   "source": [
    "The dataset has 349 rows and 10 columns."
   ]
  },
  {
   "cell_type": "code",
   "execution_count": 4,
   "id": "cfcfb739aeb0a04a",
   "metadata": {
    "ExecuteTime": {
     "end_time": "2024-01-31T19:07:56.659570016Z",
     "start_time": "2024-01-31T19:07:55.801662606Z"
    },
    "collapsed": false
   },
   "outputs": [
    {
     "name": "stdout",
     "output_type": "stream",
     "text": [
      "<class 'pandas.core.frame.DataFrame'>\n",
      "RangeIndex: 349 entries, 0 to 348\n",
      "Data columns (total 10 columns):\n",
      " #   Column                Non-Null Count  Dtype \n",
      "---  ------                --------------  ----- \n",
      " 0   Disease               349 non-null    object\n",
      " 1   Fever                 349 non-null    object\n",
      " 2   Cough                 349 non-null    object\n",
      " 3   Fatigue               349 non-null    object\n",
      " 4   Difficulty Breathing  349 non-null    object\n",
      " 5   Age                   349 non-null    int64 \n",
      " 6   Gender                349 non-null    object\n",
      " 7   Blood Pressure        349 non-null    object\n",
      " 8   Cholesterol Level     349 non-null    object\n",
      " 9   Outcome Variable      349 non-null    object\n",
      "dtypes: int64(1), object(9)\n",
      "memory usage: 27.4+ KB\n"
     ]
    }
   ],
   "source": [
    "data.info()"
   ]
  },
  {
   "cell_type": "markdown",
   "id": "493e57a81fccff39",
   "metadata": {
    "collapsed": false
   },
   "source": [
    "**DATA CLEANING**\n",
    "\n",
    "First, we will check for null values."
   ]
  },
  {
   "cell_type": "code",
   "execution_count": 5,
   "id": "224aa0ab420e20c0",
   "metadata": {
    "ExecuteTime": {
     "end_time": "2024-01-31T19:09:45.227618094Z",
     "start_time": "2024-01-31T19:09:44.718150908Z"
    },
    "collapsed": false
   },
   "outputs": [
    {
     "data": {
      "text/plain": [
       "Disease                 0\n",
       "Fever                   0\n",
       "Cough                   0\n",
       "Fatigue                 0\n",
       "Difficulty Breathing    0\n",
       "Age                     0\n",
       "Gender                  0\n",
       "Blood Pressure          0\n",
       "Cholesterol Level       0\n",
       "Outcome Variable        0\n",
       "dtype: int64"
      ]
     },
     "execution_count": 5,
     "metadata": {},
     "output_type": "execute_result"
    }
   ],
   "source": [
    "data.isnull().sum()"
   ]
  },
  {
   "cell_type": "markdown",
   "id": "614bf8968a0d1d80",
   "metadata": {
    "collapsed": false
   },
   "source": [
    "We have no null values in our dataset.\n",
    "Hence, we move to transforming our categorical data from object type to float type."
   ]
  },
  {
   "cell_type": "code",
   "execution_count": 6,
   "id": "fa8816b0c60c5713",
   "metadata": {
    "ExecuteTime": {
     "end_time": "2024-01-31T19:42:02.700162363Z",
     "start_time": "2024-01-31T19:42:01.439976013Z"
    },
    "collapsed": false
   },
   "outputs": [
    {
     "data": {
      "text/html": [
       "<div>\n",
       "<style scoped>\n",
       "    .dataframe tbody tr th:only-of-type {\n",
       "        vertical-align: middle;\n",
       "    }\n",
       "\n",
       "    .dataframe tbody tr th {\n",
       "        vertical-align: top;\n",
       "    }\n",
       "\n",
       "    .dataframe thead th {\n",
       "        text-align: right;\n",
       "    }\n",
       "</style>\n",
       "<table border=\"1\" class=\"dataframe\">\n",
       "  <thead>\n",
       "    <tr style=\"text-align: right;\">\n",
       "      <th></th>\n",
       "      <th>Disease</th>\n",
       "      <th>Fever</th>\n",
       "      <th>Cough</th>\n",
       "      <th>Fatigue</th>\n",
       "      <th>Difficulty Breathing</th>\n",
       "      <th>Age</th>\n",
       "      <th>Gender</th>\n",
       "      <th>Blood Pressure</th>\n",
       "      <th>Cholesterol Level</th>\n",
       "      <th>Outcome Variable</th>\n",
       "    </tr>\n",
       "  </thead>\n",
       "  <tbody>\n",
       "    <tr>\n",
       "      <th>0</th>\n",
       "      <td>Influenza</td>\n",
       "      <td>1</td>\n",
       "      <td>0</td>\n",
       "      <td>1</td>\n",
       "      <td>1</td>\n",
       "      <td>19</td>\n",
       "      <td>0</td>\n",
       "      <td>1</td>\n",
       "      <td>2</td>\n",
       "      <td>1</td>\n",
       "    </tr>\n",
       "    <tr>\n",
       "      <th>1</th>\n",
       "      <td>Common Cold</td>\n",
       "      <td>0</td>\n",
       "      <td>1</td>\n",
       "      <td>1</td>\n",
       "      <td>0</td>\n",
       "      <td>25</td>\n",
       "      <td>0</td>\n",
       "      <td>2</td>\n",
       "      <td>2</td>\n",
       "      <td>0</td>\n",
       "    </tr>\n",
       "    <tr>\n",
       "      <th>2</th>\n",
       "      <td>Eczema</td>\n",
       "      <td>0</td>\n",
       "      <td>1</td>\n",
       "      <td>1</td>\n",
       "      <td>0</td>\n",
       "      <td>25</td>\n",
       "      <td>0</td>\n",
       "      <td>2</td>\n",
       "      <td>2</td>\n",
       "      <td>0</td>\n",
       "    </tr>\n",
       "    <tr>\n",
       "      <th>3</th>\n",
       "      <td>Asthma</td>\n",
       "      <td>1</td>\n",
       "      <td>1</td>\n",
       "      <td>0</td>\n",
       "      <td>1</td>\n",
       "      <td>25</td>\n",
       "      <td>1</td>\n",
       "      <td>2</td>\n",
       "      <td>2</td>\n",
       "      <td>1</td>\n",
       "    </tr>\n",
       "    <tr>\n",
       "      <th>4</th>\n",
       "      <td>Asthma</td>\n",
       "      <td>1</td>\n",
       "      <td>1</td>\n",
       "      <td>0</td>\n",
       "      <td>1</td>\n",
       "      <td>25</td>\n",
       "      <td>1</td>\n",
       "      <td>2</td>\n",
       "      <td>2</td>\n",
       "      <td>1</td>\n",
       "    </tr>\n",
       "    <tr>\n",
       "      <th>5</th>\n",
       "      <td>Eczema</td>\n",
       "      <td>1</td>\n",
       "      <td>0</td>\n",
       "      <td>0</td>\n",
       "      <td>0</td>\n",
       "      <td>25</td>\n",
       "      <td>0</td>\n",
       "      <td>2</td>\n",
       "      <td>2</td>\n",
       "      <td>1</td>\n",
       "    </tr>\n",
       "    <tr>\n",
       "      <th>6</th>\n",
       "      <td>Influenza</td>\n",
       "      <td>1</td>\n",
       "      <td>1</td>\n",
       "      <td>1</td>\n",
       "      <td>1</td>\n",
       "      <td>25</td>\n",
       "      <td>0</td>\n",
       "      <td>2</td>\n",
       "      <td>2</td>\n",
       "      <td>1</td>\n",
       "    </tr>\n",
       "    <tr>\n",
       "      <th>7</th>\n",
       "      <td>Influenza</td>\n",
       "      <td>1</td>\n",
       "      <td>1</td>\n",
       "      <td>1</td>\n",
       "      <td>1</td>\n",
       "      <td>25</td>\n",
       "      <td>0</td>\n",
       "      <td>2</td>\n",
       "      <td>2</td>\n",
       "      <td>1</td>\n",
       "    </tr>\n",
       "    <tr>\n",
       "      <th>8</th>\n",
       "      <td>Hyperthyroidism</td>\n",
       "      <td>0</td>\n",
       "      <td>1</td>\n",
       "      <td>0</td>\n",
       "      <td>0</td>\n",
       "      <td>28</td>\n",
       "      <td>0</td>\n",
       "      <td>2</td>\n",
       "      <td>2</td>\n",
       "      <td>0</td>\n",
       "    </tr>\n",
       "    <tr>\n",
       "      <th>9</th>\n",
       "      <td>Hyperthyroidism</td>\n",
       "      <td>0</td>\n",
       "      <td>1</td>\n",
       "      <td>0</td>\n",
       "      <td>0</td>\n",
       "      <td>28</td>\n",
       "      <td>0</td>\n",
       "      <td>2</td>\n",
       "      <td>2</td>\n",
       "      <td>0</td>\n",
       "    </tr>\n",
       "  </tbody>\n",
       "</table>\n",
       "</div>"
      ],
      "text/plain": [
       "           Disease  Fever  Cough  Fatigue  Difficulty Breathing  Age  Gender  \\\n",
       "0        Influenza      1      0        1                     1   19       0   \n",
       "1      Common Cold      0      1        1                     0   25       0   \n",
       "2           Eczema      0      1        1                     0   25       0   \n",
       "3           Asthma      1      1        0                     1   25       1   \n",
       "4           Asthma      1      1        0                     1   25       1   \n",
       "5           Eczema      1      0        0                     0   25       0   \n",
       "6        Influenza      1      1        1                     1   25       0   \n",
       "7        Influenza      1      1        1                     1   25       0   \n",
       "8  Hyperthyroidism      0      1        0                     0   28       0   \n",
       "9  Hyperthyroidism      0      1        0                     0   28       0   \n",
       "\n",
       "   Blood Pressure  Cholesterol Level  Outcome Variable  \n",
       "0               1                  2                 1  \n",
       "1               2                  2                 0  \n",
       "2               2                  2                 0  \n",
       "3               2                  2                 1  \n",
       "4               2                  2                 1  \n",
       "5               2                  2                 1  \n",
       "6               2                  2                 1  \n",
       "7               2                  2                 1  \n",
       "8               2                  2                 0  \n",
       "9               2                  2                 0  "
      ]
     },
     "execution_count": 6,
     "metadata": {},
     "output_type": "execute_result"
    }
   ],
   "source": [
    "#using a function that will transform all columns except Disease column\n",
    "from sklearn.preprocessing import LabelEncoder\n",
    "\n",
    "def transform_data(data):\n",
    "    label_encoder = LabelEncoder()\n",
    "    for column in data.columns:\n",
    "        if column != 'Disease':\n",
    "            if data[column].dtype == 'object':\n",
    "                data[column] = label_encoder.fit_transform(data[column])\n",
    "            \n",
    "    return data\n",
    "\n",
    "data = transform_data(data)\n",
    "data.head(10)"
   ]
  },
  {
   "cell_type": "code",
   "execution_count": 7,
   "id": "24f6491d8186d2f1",
   "metadata": {
    "ExecuteTime": {
     "end_time": "2024-01-31T19:37:06.302959184Z",
     "start_time": "2024-01-31T19:37:04.634324105Z"
    },
    "collapsed": false
   },
   "outputs": [
    {
     "name": "stdout",
     "output_type": "stream",
     "text": [
      "<class 'pandas.core.frame.DataFrame'>\n",
      "RangeIndex: 349 entries, 0 to 348\n",
      "Data columns (total 10 columns):\n",
      " #   Column                Non-Null Count  Dtype \n",
      "---  ------                --------------  ----- \n",
      " 0   Disease               349 non-null    object\n",
      " 1   Fever                 349 non-null    int64 \n",
      " 2   Cough                 349 non-null    int64 \n",
      " 3   Fatigue               349 non-null    int64 \n",
      " 4   Difficulty Breathing  349 non-null    int64 \n",
      " 5   Age                   349 non-null    int64 \n",
      " 6   Gender                349 non-null    int64 \n",
      " 7   Blood Pressure        349 non-null    int64 \n",
      " 8   Cholesterol Level     349 non-null    int64 \n",
      " 9   Outcome Variable      349 non-null    int64 \n",
      "dtypes: int64(9), object(1)\n",
      "memory usage: 27.4+ KB\n"
     ]
    }
   ],
   "source": [
    "data.info()"
   ]
  },
  {
   "cell_type": "markdown",
   "id": "c40074e9760fc364",
   "metadata": {
    "collapsed": false
   },
   "source": [
    "By using LabelEncoder, it has transformed all the categorical data into numerical form."
   ]
  },
  {
   "cell_type": "markdown",
   "id": "99581692",
   "metadata": {},
   "source": [
    "**Number of Diseases**\n",
    "\n",
    "By use of unique values we can see different number of diseases in the Dataset."
   ]
  },
  {
   "cell_type": "code",
   "execution_count": 8,
   "id": "829bf628",
   "metadata": {},
   "outputs": [
    {
     "data": {
      "text/plain": [
       "Asthma                            23\n",
       "Stroke                            16\n",
       "Osteoporosis                      14\n",
       "Hypertension                      10\n",
       "Diabetes                          10\n",
       "                                  ..\n",
       "Autism Spectrum Disorder (ASD)     1\n",
       "Hypoglycemia                       1\n",
       "Fibromyalgia                       1\n",
       "Eating Disorders (Anorexia,...     1\n",
       "Williams Syndrome                  1\n",
       "Name: Disease, Length: 116, dtype: int64"
      ]
     },
     "execution_count": 8,
     "metadata": {},
     "output_type": "execute_result"
    }
   ],
   "source": [
    "data['Disease'].value_counts()"
   ]
  },
  {
   "cell_type": "markdown",
   "id": "32a8ffab",
   "metadata": {},
   "source": [
    "As per above, diseases like asthma, stroke, osteoporosis, hypertension and Diabetes are the most common. We have 116 different type of diseases."
   ]
  }
 ],
 "metadata": {
  "kernelspec": {
   "display_name": "Python 3",
   "language": "python",
   "name": "python3"
  },
  "language_info": {
   "codemirror_mode": {
    "name": "ipython",
    "version": 3
   },
   "file_extension": ".py",
   "mimetype": "text/x-python",
   "name": "python",
   "nbconvert_exporter": "python",
   "pygments_lexer": "ipython3",
   "version": "3.11.6"
  }
 },
 "nbformat": 4,
 "nbformat_minor": 5
}
