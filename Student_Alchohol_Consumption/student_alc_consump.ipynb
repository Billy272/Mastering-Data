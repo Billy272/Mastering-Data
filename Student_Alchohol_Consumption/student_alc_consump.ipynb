{
 "cells": [
  {
   "cell_type": "markdown",
   "metadata": {},
   "source": [
    "**Student Alcohol Consumption Rates**\n",
    "\n",
    "We will use a dataset containing student alcohol consumption rates to practice data cleaning and visualization. The dataset is from Kaggle."
   ]
  },
  {
   "cell_type": "raw",
   "source": [
    "import pandas as pd\n",
    "\n",
    "stud_consump = pd.read_csv('student-mat.csv', sep=';')\n",
    "\n",
    "stud_consump.head(10)"
   ],
   "metadata": {
    "collapsed": false
   }
  }
 ],
 "metadata": {
  "kernelspec": {
   "display_name": "Python 3",
   "language": "python",
   "name": "python3"
  },
  "language_info": {
   "name": "python",
   "version": "3.11.6"
  }
 },
 "nbformat": 4,
 "nbformat_minor": 2
}
