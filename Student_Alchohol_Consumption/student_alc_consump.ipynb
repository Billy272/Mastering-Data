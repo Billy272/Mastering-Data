{
 "cells": [
  {
   "cell_type": "markdown",
   "metadata": {},
   "source": [
    "**Student Alcohol Consumption Rates**\n",
    "\n",
    "We will use a dataset containing student alcohol consumption rates to practice data cleaning and visualization. The dataset is from Kaggle."
   ]
  },
  {
   "cell_type": "code",
   "execution_count": 2,
   "metadata": {
    "ExecuteTime": {
     "end_time": "2023-11-15T07:38:52.519658758Z",
     "start_time": "2023-11-15T07:38:52.472439712Z"
    }
   },
   "outputs": [
    {
     "data": {
      "text/plain": "  school,sex,age,address,famsize,Pstatus,Medu,Fedu,Mjob,Fjob,reason,guardian,traveltime,studytime,failures,schoolsup,famsup,paid,activities,nursery,higher,internet,romantic,famrel,freetime,goout,Dalc,Walc,health,absences,G1,G2,G3\n0  GP,F,18,U,GT3,A,4,4,at_home,teacher,course,mot...                                                                                                                                                                                 \n1  GP,F,17,U,GT3,T,1,1,at_home,other,course,fathe...                                                                                                                                                                                 \n2  GP,F,15,U,LE3,T,1,1,at_home,other,other,mother...                                                                                                                                                                                 \n3  GP,F,15,U,GT3,T,4,2,health,services,home,mothe...                                                                                                                                                                                 \n4  GP,F,16,U,GT3,T,3,3,other,other,home,father,1,...                                                                                                                                                                                 \n5  GP,M,16,U,LE3,T,4,3,services,other,reputation,...                                                                                                                                                                                 \n6  GP,M,16,U,LE3,T,2,2,other,other,home,mother,1,...                                                                                                                                                                                 \n7  GP,F,17,U,GT3,A,4,4,other,teacher,home,mother,...                                                                                                                                                                                 \n8  GP,M,15,U,LE3,A,3,2,services,other,home,mother...                                                                                                                                                                                 \n9  GP,M,15,U,GT3,T,3,4,other,other,home,mother,1,...                                                                                                                                                                                 ",
      "text/html": "<div>\n<style scoped>\n    .dataframe tbody tr th:only-of-type {\n        vertical-align: middle;\n    }\n\n    .dataframe tbody tr th {\n        vertical-align: top;\n    }\n\n    .dataframe thead th {\n        text-align: right;\n    }\n</style>\n<table border=\"1\" class=\"dataframe\">\n  <thead>\n    <tr style=\"text-align: right;\">\n      <th></th>\n      <th>school,sex,age,address,famsize,Pstatus,Medu,Fedu,Mjob,Fjob,reason,guardian,traveltime,studytime,failures,schoolsup,famsup,paid,activities,nursery,higher,internet,romantic,famrel,freetime,goout,Dalc,Walc,health,absences,G1,G2,G3</th>\n    </tr>\n  </thead>\n  <tbody>\n    <tr>\n      <th>0</th>\n      <td>GP,F,18,U,GT3,A,4,4,at_home,teacher,course,mot...</td>\n    </tr>\n    <tr>\n      <th>1</th>\n      <td>GP,F,17,U,GT3,T,1,1,at_home,other,course,fathe...</td>\n    </tr>\n    <tr>\n      <th>2</th>\n      <td>GP,F,15,U,LE3,T,1,1,at_home,other,other,mother...</td>\n    </tr>\n    <tr>\n      <th>3</th>\n      <td>GP,F,15,U,GT3,T,4,2,health,services,home,mothe...</td>\n    </tr>\n    <tr>\n      <th>4</th>\n      <td>GP,F,16,U,GT3,T,3,3,other,other,home,father,1,...</td>\n    </tr>\n    <tr>\n      <th>5</th>\n      <td>GP,M,16,U,LE3,T,4,3,services,other,reputation,...</td>\n    </tr>\n    <tr>\n      <th>6</th>\n      <td>GP,M,16,U,LE3,T,2,2,other,other,home,mother,1,...</td>\n    </tr>\n    <tr>\n      <th>7</th>\n      <td>GP,F,17,U,GT3,A,4,4,other,teacher,home,mother,...</td>\n    </tr>\n    <tr>\n      <th>8</th>\n      <td>GP,M,15,U,LE3,A,3,2,services,other,home,mother...</td>\n    </tr>\n    <tr>\n      <th>9</th>\n      <td>GP,M,15,U,GT3,T,3,4,other,other,home,mother,1,...</td>\n    </tr>\n  </tbody>\n</table>\n</div>"
     },
     "execution_count": 2,
     "metadata": {},
     "output_type": "execute_result"
    }
   ],
   "source": [
    "import pandas as pd\n",
    "\n",
    "stud_consump = pd.read_csv('student-mat.csv', sep=';')\n",
    "\n",
    "stud_consump.head(10)"
   ]
  }
 ],
 "metadata": {
  "kernelspec": {
   "display_name": "Python 3",
   "language": "python",
   "name": "python3"
  },
  "language_info": {
   "name": "python",
   "version": "3.11.6"
  }
 },
 "nbformat": 4,
 "nbformat_minor": 2
}
