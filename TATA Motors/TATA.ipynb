{
 "cells": [
  {
   "cell_type": "markdown",
   "source": [
    "***TATA Motors Limited - Stock Prices***\n",
    "**2006 - 2024** **Currency in INR**"
   ],
   "metadata": {
    "collapsed": false
   },
   "id": "cd0fb5dab5727d69"
  },
  {
   "cell_type": "code",
   "execution_count": 1,
   "id": "initial_id",
   "metadata": {
    "collapsed": true,
    "ExecuteTime": {
     "end_time": "2024-01-24T20:05:23.674945452Z",
     "start_time": "2024-01-24T20:05:23.511171795Z"
    }
   },
   "outputs": [
    {
     "name": "stdout",
     "output_type": "stream",
     "text": [
      "         Date        Open        High         Low       Close   Adj Close  \\\n",
      "0  2006-12-01  173.042435  173.042435  155.268692  161.515854  141.449173   \n",
      "1  2006-12-04  162.023666  170.512909  162.023666  169.085266  148.078171   \n",
      "2  2006-12-05  170.167969  170.867416  167.293518  169.209824  148.187225   \n",
      "3  2006-12-06  167.121048  170.167969  165.568832  168.912796  147.927109   \n",
      "4  2006-12-07  168.634933  171.701019  167.322250  171.068634  149.815109   \n",
      "5  2006-12-08  170.551239  171.317749  165.425110  166.105408  145.468521   \n",
      "6  2006-12-11  166.680298  166.680298  156.178940  160.864304  140.878540   \n",
      "7  2006-12-12  160.778076  163.077637  144.681107  157.184998  137.656342   \n",
      "8  2006-12-13  159.360001  163.844162  153.620667  161.180496  141.155457   \n",
      "9  2006-12-14  161.448776  164.610687  160.222351  162.588974  142.388962   \n",
      "\n",
      "       Volume  \n",
      "0  10001085.0  \n",
      "1  18491096.0  \n",
      "2   6699838.0  \n",
      "3   4822862.0  \n",
      "4   3963218.0  \n",
      "5   5872840.0  \n",
      "6   6394422.0  \n",
      "7  11916839.0  \n",
      "8   6957223.0  \n",
      "9   4875056.0  \n"
     ]
    }
   ],
   "source": [
    "import pandas as pd\n",
    "\n",
    "data = pd.read_csv('./TATAMOTORS.NS.csv')\n",
    "\n",
    "print(data.head(10))"
   ]
  }
 ],
 "metadata": {
  "kernelspec": {
   "display_name": "Python 3",
   "language": "python",
   "name": "python3"
  },
  "language_info": {
   "codemirror_mode": {
    "name": "ipython",
    "version": 2
   },
   "file_extension": ".py",
   "mimetype": "text/x-python",
   "name": "python",
   "nbconvert_exporter": "python",
   "pygments_lexer": "ipython2",
   "version": "2.7.6"
  }
 },
 "nbformat": 4,
 "nbformat_minor": 5
}
