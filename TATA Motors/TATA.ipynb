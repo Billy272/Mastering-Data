{
 "cells": [
  {
   "cell_type": "markdown",
   "source": [
    "***TATA Motors Limited - Stock Prices***\n",
    "**2006 - 2024** **Currency in INR**"
   ],
   "metadata": {
    "collapsed": false
   },
   "id": "cd0fb5dab5727d69"
  },
  {
   "cell_type": "code",
   "execution_count": 3,
   "id": "initial_id",
   "metadata": {
    "collapsed": true,
    "ExecuteTime": {
     "end_time": "2024-01-24T20:16:47.446642690Z",
     "start_time": "2024-01-24T20:16:47.051831379Z"
    }
   },
   "outputs": [
    {
     "name": "stdout",
     "output_type": "stream",
     "text": [
      "         Date        Open        High         Low       Close   Adj Close  \\\n",
      "0  2006-12-01  173.042435  173.042435  155.268692  161.515854  141.449173   \n",
      "1  2006-12-04  162.023666  170.512909  162.023666  169.085266  148.078171   \n",
      "2  2006-12-05  170.167969  170.867416  167.293518  169.209824  148.187225   \n",
      "3  2006-12-06  167.121048  170.167969  165.568832  168.912796  147.927109   \n",
      "4  2006-12-07  168.634933  171.701019  167.322250  171.068634  149.815109   \n",
      "\n",
      "       Volume  \n",
      "0  10001085.0  \n",
      "1  18491096.0  \n",
      "2   6699838.0  \n",
      "3   4822862.0  \n",
      "4   3963218.0  \n",
      "            Date        Open        High         Low       Close   Adj Close  \\\n",
      "4228  2024-01-15  820.000000  820.400024  810.299988  812.450012  812.450012   \n",
      "4229  2024-01-16  812.450012  827.000000  812.450012  818.849976  818.849976   \n",
      "4230  2024-01-17  811.000000  813.700012  804.000000  805.549988  805.549988   \n",
      "4231  2024-01-18  807.000000  822.950012  797.000000  819.049988  819.049988   \n",
      "4232  2024-01-19  823.849976  826.000000  819.500000  823.549988  823.549988   \n",
      "\n",
      "          Volume  \n",
      "4228   4835856.0  \n",
      "4229  10159066.0  \n",
      "4230   7895439.0  \n",
      "4231  11500495.0  \n",
      "4232   5706888.0  \n"
     ]
    }
   ],
   "source": [
    "import pandas as pd\n",
    "\n",
    "data = pd.read_csv('./TATAMOTORS.NS.csv')\n",
    "\n",
    "print(data.head(5))\n",
    "print(data.tail(5))"
   ]
  }
 ],
 "metadata": {
  "kernelspec": {
   "display_name": "Python 3",
   "language": "python",
   "name": "python3"
  },
  "language_info": {
   "codemirror_mode": {
    "name": "ipython",
    "version": 2
   },
   "file_extension": ".py",
   "mimetype": "text/x-python",
   "name": "python",
   "nbconvert_exporter": "python",
   "pygments_lexer": "ipython2",
   "version": "2.7.6"
  }
 },
 "nbformat": 4,
 "nbformat_minor": 5
}
