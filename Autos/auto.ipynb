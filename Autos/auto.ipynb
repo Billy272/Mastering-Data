{
 "cells": [
  {
   "cell_type": "markdown",
   "source": [
    "***AUTO-MOTOR DATA ANALYSIS***\n",
    "\n",
    "The data analysis done here is for autos and motors data. This will be used to create models later on. First, we will import the necessary libraries and the data.\n",
    "Thereafter, we will do some data cleaning and data analysis to understand the data better."
   ],
   "metadata": {
    "collapsed": false
   },
   "id": "aceeac56be54fc39"
  },
  {
   "cell_type": "code",
   "outputs": [],
   "source": [
    "# Importing the necessary libraries\n",
    "import pandas as pd\n",
    "import numpy as np\n",
    "import matplotlib.pyplot as plt\n",
    "import seaborn as sns"
   ],
   "metadata": {
    "collapsed": false,
    "ExecuteTime": {
     "end_time": "2024-02-16T10:48:14.108012623Z",
     "start_time": "2024-02-16T10:48:13.349553907Z"
    }
   },
   "id": "fe98fb4dc242107a",
   "execution_count": 17
  },
  {
   "cell_type": "markdown",
   "source": [
    "Let's import the data and take a look at the first few rows of the data."
   ],
   "metadata": {
    "collapsed": false
   },
   "id": "b8e24fdcf070e433"
  },
  {
   "cell_type": "code",
   "outputs": [
    {
     "data": {
      "text/plain": "           dateCrawled                                               name  \\\n0  2016-03-26 17:47:46                   Peugeot_807_160_NAVTECH_ON_BOARD   \n1  2016-04-04 13:38:56         BMW_740i_4_4_Liter_HAMANN_UMBAU_Mega_Optik   \n2  2016-03-26 18:57:24                         Volkswagen_Golf_1.6_United   \n3  2016-03-12 16:58:10  Smart_smart_fortwo_coupe_softouch/F1/Klima/Pan...   \n4  2016-04-01 14:38:50  Ford_Focus_1_6_Benzin_TÜV_neu_ist_sehr_gepfleg...   \n5  2016-03-21 13:47:45  Chrysler_Grand_Voyager_2.8_CRD_Aut.Limited_Sto...   \n6  2016-03-20 17:55:21  VW_Golf_III_GT_Special_Electronic_Green_Metall...   \n7  2016-03-16 18:55:19                               Golf_IV_1.9_TDI_90PS   \n8  2016-03-22 16:51:34                                         Seat_Arosa   \n9  2016-03-16 13:47:02          Renault_Megane_Scenic_1.6e_RT_Klimaanlage   \n\n   seller offerType   price   abtest vehicleType  yearOfRegistration  \\\n0  privat   Angebot  $5,000  control         bus                2004   \n1  privat   Angebot  $8,500  control   limousine                1997   \n2  privat   Angebot  $8,990     test   limousine                2009   \n3  privat   Angebot  $4,350  control  kleinwagen                2007   \n4  privat   Angebot  $1,350     test       kombi                2003   \n5  privat   Angebot  $7,900     test         bus                2006   \n6  privat   Angebot    $300     test   limousine                1995   \n7  privat   Angebot  $1,990  control   limousine                1998   \n8  privat   Angebot    $250     test         NaN                2000   \n9  privat   Angebot    $590  control         bus                1997   \n\n     gearbox  powerPS    model   odometer  monthOfRegistration fuelType  \\\n0    manuell      158   andere  150,000km                    3      lpg   \n1  automatik      286      7er  150,000km                    6   benzin   \n2    manuell      102     golf   70,000km                    7   benzin   \n3  automatik       71   fortwo   70,000km                    6   benzin   \n4    manuell        0    focus  150,000km                    7   benzin   \n5  automatik      150  voyager  150,000km                    4   diesel   \n6    manuell       90     golf  150,000km                    8   benzin   \n7    manuell       90     golf  150,000km                   12   diesel   \n8    manuell        0    arosa  150,000km                   10      NaN   \n9    manuell       90   megane  150,000km                    7   benzin   \n\n        brand notRepairedDamage          dateCreated  nrOfPictures  \\\n0     peugeot              nein  2016-03-26 00:00:00             0   \n1         bmw              nein  2016-04-04 00:00:00             0   \n2  volkswagen              nein  2016-03-26 00:00:00             0   \n3       smart              nein  2016-03-12 00:00:00             0   \n4        ford              nein  2016-04-01 00:00:00             0   \n5    chrysler               NaN  2016-03-21 00:00:00             0   \n6  volkswagen               NaN  2016-03-20 00:00:00             0   \n7  volkswagen              nein  2016-03-16 00:00:00             0   \n8        seat              nein  2016-03-22 00:00:00             0   \n9     renault              nein  2016-03-16 00:00:00             0   \n\n   postalCode             lastSeen  \n0       79588  2016-04-06 06:45:54  \n1       71034  2016-04-06 14:45:08  \n2       35394  2016-04-06 20:15:37  \n3       33729  2016-03-15 03:16:28  \n4       39218  2016-04-01 14:38:50  \n5       22962  2016-04-06 09:45:21  \n6       31535  2016-03-23 02:48:59  \n7       53474  2016-04-07 03:17:32  \n8        7426  2016-03-26 18:18:10  \n9       15749  2016-04-06 10:46:35  ",
      "text/html": "<div>\n<style scoped>\n    .dataframe tbody tr th:only-of-type {\n        vertical-align: middle;\n    }\n\n    .dataframe tbody tr th {\n        vertical-align: top;\n    }\n\n    .dataframe thead th {\n        text-align: right;\n    }\n</style>\n<table border=\"1\" class=\"dataframe\">\n  <thead>\n    <tr style=\"text-align: right;\">\n      <th></th>\n      <th>dateCrawled</th>\n      <th>name</th>\n      <th>seller</th>\n      <th>offerType</th>\n      <th>price</th>\n      <th>abtest</th>\n      <th>vehicleType</th>\n      <th>yearOfRegistration</th>\n      <th>gearbox</th>\n      <th>powerPS</th>\n      <th>model</th>\n      <th>odometer</th>\n      <th>monthOfRegistration</th>\n      <th>fuelType</th>\n      <th>brand</th>\n      <th>notRepairedDamage</th>\n      <th>dateCreated</th>\n      <th>nrOfPictures</th>\n      <th>postalCode</th>\n      <th>lastSeen</th>\n    </tr>\n  </thead>\n  <tbody>\n    <tr>\n      <th>0</th>\n      <td>2016-03-26 17:47:46</td>\n      <td>Peugeot_807_160_NAVTECH_ON_BOARD</td>\n      <td>privat</td>\n      <td>Angebot</td>\n      <td>$5,000</td>\n      <td>control</td>\n      <td>bus</td>\n      <td>2004</td>\n      <td>manuell</td>\n      <td>158</td>\n      <td>andere</td>\n      <td>150,000km</td>\n      <td>3</td>\n      <td>lpg</td>\n      <td>peugeot</td>\n      <td>nein</td>\n      <td>2016-03-26 00:00:00</td>\n      <td>0</td>\n      <td>79588</td>\n      <td>2016-04-06 06:45:54</td>\n    </tr>\n    <tr>\n      <th>1</th>\n      <td>2016-04-04 13:38:56</td>\n      <td>BMW_740i_4_4_Liter_HAMANN_UMBAU_Mega_Optik</td>\n      <td>privat</td>\n      <td>Angebot</td>\n      <td>$8,500</td>\n      <td>control</td>\n      <td>limousine</td>\n      <td>1997</td>\n      <td>automatik</td>\n      <td>286</td>\n      <td>7er</td>\n      <td>150,000km</td>\n      <td>6</td>\n      <td>benzin</td>\n      <td>bmw</td>\n      <td>nein</td>\n      <td>2016-04-04 00:00:00</td>\n      <td>0</td>\n      <td>71034</td>\n      <td>2016-04-06 14:45:08</td>\n    </tr>\n    <tr>\n      <th>2</th>\n      <td>2016-03-26 18:57:24</td>\n      <td>Volkswagen_Golf_1.6_United</td>\n      <td>privat</td>\n      <td>Angebot</td>\n      <td>$8,990</td>\n      <td>test</td>\n      <td>limousine</td>\n      <td>2009</td>\n      <td>manuell</td>\n      <td>102</td>\n      <td>golf</td>\n      <td>70,000km</td>\n      <td>7</td>\n      <td>benzin</td>\n      <td>volkswagen</td>\n      <td>nein</td>\n      <td>2016-03-26 00:00:00</td>\n      <td>0</td>\n      <td>35394</td>\n      <td>2016-04-06 20:15:37</td>\n    </tr>\n    <tr>\n      <th>3</th>\n      <td>2016-03-12 16:58:10</td>\n      <td>Smart_smart_fortwo_coupe_softouch/F1/Klima/Pan...</td>\n      <td>privat</td>\n      <td>Angebot</td>\n      <td>$4,350</td>\n      <td>control</td>\n      <td>kleinwagen</td>\n      <td>2007</td>\n      <td>automatik</td>\n      <td>71</td>\n      <td>fortwo</td>\n      <td>70,000km</td>\n      <td>6</td>\n      <td>benzin</td>\n      <td>smart</td>\n      <td>nein</td>\n      <td>2016-03-12 00:00:00</td>\n      <td>0</td>\n      <td>33729</td>\n      <td>2016-03-15 03:16:28</td>\n    </tr>\n    <tr>\n      <th>4</th>\n      <td>2016-04-01 14:38:50</td>\n      <td>Ford_Focus_1_6_Benzin_TÜV_neu_ist_sehr_gepfleg...</td>\n      <td>privat</td>\n      <td>Angebot</td>\n      <td>$1,350</td>\n      <td>test</td>\n      <td>kombi</td>\n      <td>2003</td>\n      <td>manuell</td>\n      <td>0</td>\n      <td>focus</td>\n      <td>150,000km</td>\n      <td>7</td>\n      <td>benzin</td>\n      <td>ford</td>\n      <td>nein</td>\n      <td>2016-04-01 00:00:00</td>\n      <td>0</td>\n      <td>39218</td>\n      <td>2016-04-01 14:38:50</td>\n    </tr>\n    <tr>\n      <th>5</th>\n      <td>2016-03-21 13:47:45</td>\n      <td>Chrysler_Grand_Voyager_2.8_CRD_Aut.Limited_Sto...</td>\n      <td>privat</td>\n      <td>Angebot</td>\n      <td>$7,900</td>\n      <td>test</td>\n      <td>bus</td>\n      <td>2006</td>\n      <td>automatik</td>\n      <td>150</td>\n      <td>voyager</td>\n      <td>150,000km</td>\n      <td>4</td>\n      <td>diesel</td>\n      <td>chrysler</td>\n      <td>NaN</td>\n      <td>2016-03-21 00:00:00</td>\n      <td>0</td>\n      <td>22962</td>\n      <td>2016-04-06 09:45:21</td>\n    </tr>\n    <tr>\n      <th>6</th>\n      <td>2016-03-20 17:55:21</td>\n      <td>VW_Golf_III_GT_Special_Electronic_Green_Metall...</td>\n      <td>privat</td>\n      <td>Angebot</td>\n      <td>$300</td>\n      <td>test</td>\n      <td>limousine</td>\n      <td>1995</td>\n      <td>manuell</td>\n      <td>90</td>\n      <td>golf</td>\n      <td>150,000km</td>\n      <td>8</td>\n      <td>benzin</td>\n      <td>volkswagen</td>\n      <td>NaN</td>\n      <td>2016-03-20 00:00:00</td>\n      <td>0</td>\n      <td>31535</td>\n      <td>2016-03-23 02:48:59</td>\n    </tr>\n    <tr>\n      <th>7</th>\n      <td>2016-03-16 18:55:19</td>\n      <td>Golf_IV_1.9_TDI_90PS</td>\n      <td>privat</td>\n      <td>Angebot</td>\n      <td>$1,990</td>\n      <td>control</td>\n      <td>limousine</td>\n      <td>1998</td>\n      <td>manuell</td>\n      <td>90</td>\n      <td>golf</td>\n      <td>150,000km</td>\n      <td>12</td>\n      <td>diesel</td>\n      <td>volkswagen</td>\n      <td>nein</td>\n      <td>2016-03-16 00:00:00</td>\n      <td>0</td>\n      <td>53474</td>\n      <td>2016-04-07 03:17:32</td>\n    </tr>\n    <tr>\n      <th>8</th>\n      <td>2016-03-22 16:51:34</td>\n      <td>Seat_Arosa</td>\n      <td>privat</td>\n      <td>Angebot</td>\n      <td>$250</td>\n      <td>test</td>\n      <td>NaN</td>\n      <td>2000</td>\n      <td>manuell</td>\n      <td>0</td>\n      <td>arosa</td>\n      <td>150,000km</td>\n      <td>10</td>\n      <td>NaN</td>\n      <td>seat</td>\n      <td>nein</td>\n      <td>2016-03-22 00:00:00</td>\n      <td>0</td>\n      <td>7426</td>\n      <td>2016-03-26 18:18:10</td>\n    </tr>\n    <tr>\n      <th>9</th>\n      <td>2016-03-16 13:47:02</td>\n      <td>Renault_Megane_Scenic_1.6e_RT_Klimaanlage</td>\n      <td>privat</td>\n      <td>Angebot</td>\n      <td>$590</td>\n      <td>control</td>\n      <td>bus</td>\n      <td>1997</td>\n      <td>manuell</td>\n      <td>90</td>\n      <td>megane</td>\n      <td>150,000km</td>\n      <td>7</td>\n      <td>benzin</td>\n      <td>renault</td>\n      <td>nein</td>\n      <td>2016-03-16 00:00:00</td>\n      <td>0</td>\n      <td>15749</td>\n      <td>2016-04-06 10:46:35</td>\n    </tr>\n  </tbody>\n</table>\n</div>"
     },
     "execution_count": 18,
     "metadata": {},
     "output_type": "execute_result"
    }
   ],
   "source": [
    "#import of the data\n",
    "data = pd.read_csv('autos.csv', encoding='latin1')\n",
    "\n",
    "# Display the first few rows of the data\n",
    "data.head(10)"
   ],
   "metadata": {
    "collapsed": false,
    "ExecuteTime": {
     "end_time": "2024-02-16T10:48:14.981957917Z",
     "start_time": "2024-02-16T10:48:14.045702138Z"
    }
   },
   "id": "74be36d237b0ac0f",
   "execution_count": 18
  },
  {
   "cell_type": "code",
   "outputs": [
    {
     "data": {
      "text/plain": "(50000, 20)"
     },
     "execution_count": 19,
     "metadata": {},
     "output_type": "execute_result"
    }
   ],
   "source": [
    "# Checking the shape of the data\n",
    "data.shape"
   ],
   "metadata": {
    "collapsed": false,
    "ExecuteTime": {
     "end_time": "2024-02-16T10:48:15.126662684Z",
     "start_time": "2024-02-16T10:48:14.830338209Z"
    }
   },
   "id": "ff0859ec864605",
   "execution_count": 19
  },
  {
   "cell_type": "markdown",
   "source": [
    "The data is so huge, we have a total of 20 columns and over 371528 rows. We will need to do some data cleaning and data analysis to understand the data better."
   ],
   "metadata": {
    "collapsed": false
   },
   "id": "637a994cc968c34a"
  },
  {
   "cell_type": "markdown",
   "source": [
    "***DATA CLEANING***\n",
    "\n",
    "We will start by checking for missing values in the data."
   ],
   "metadata": {
    "collapsed": false
   },
   "id": "979ce70141b3c05b"
  },
  {
   "cell_type": "code",
   "outputs": [
    {
     "data": {
      "text/plain": "dateCrawled               0\nname                      0\nseller                    0\nofferType                 0\nprice                     0\nabtest                    0\nvehicleType            5095\nyearOfRegistration        0\ngearbox                2680\npowerPS                   0\nmodel                  2758\nodometer                  0\nmonthOfRegistration       0\nfuelType               4482\nbrand                     0\nnotRepairedDamage      9829\ndateCreated               0\nnrOfPictures              0\npostalCode                0\nlastSeen                  0\ndtype: int64"
     },
     "execution_count": 20,
     "metadata": {},
     "output_type": "execute_result"
    }
   ],
   "source": [
    "# Checking for missing values\n",
    "data.isnull().sum()"
   ],
   "metadata": {
    "collapsed": false,
    "ExecuteTime": {
     "end_time": "2024-02-16T10:48:15.825126426Z",
     "start_time": "2024-02-16T10:48:14.939388875Z"
    }
   },
   "id": "252751c58325f057",
   "execution_count": 20
  },
  {
   "cell_type": "markdown",
   "source": [
    "We have missing values in the columns 'vehicleType', 'gearbox', 'model', 'fuelType', 'notRepairedDamage'. We will fill these missing values with the mode of the respective \n",
    "columns, if the data type is categorical. If the data type is numerical, we will fill the missing values with the mean of the respective columns. "
   ],
   "metadata": {
    "collapsed": false
   },
   "id": "cf374851eec05606"
  },
  {
   "cell_type": "code",
   "outputs": [
    {
     "data": {
      "text/plain": "dateCrawled            0\nname                   0\nseller                 0\nofferType              0\nprice                  0\nabtest                 0\nvehicleType            0\nyearOfRegistration     0\ngearbox                0\npowerPS                0\nmodel                  0\nodometer               0\nmonthOfRegistration    0\nfuelType               0\nbrand                  0\nnotRepairedDamage      0\ndateCreated            0\nnrOfPictures           0\npostalCode             0\nlastSeen               0\ndtype: int64"
     },
     "execution_count": 21,
     "metadata": {},
     "output_type": "execute_result"
    }
   ],
   "source": [
    "# Filling the missing values\n",
    "data['vehicleType'].fillna(data['vehicleType'].mode()[0], inplace=True)\n",
    "data['gearbox'].fillna(data['gearbox'].mode()[0], inplace=True)\n",
    "data['model'].fillna(data['model'].mode()[0], inplace=True)\n",
    "data['fuelType'].fillna(data['fuelType'].mode()[0], inplace=True)\n",
    "data['notRepairedDamage'].fillna(data['notRepairedDamage'].mode()[0], inplace=True)\n",
    "\n",
    "# Checking for missing values\n",
    "data.isnull().sum()"
   ],
   "metadata": {
    "collapsed": false,
    "ExecuteTime": {
     "end_time": "2024-02-16T10:48:17.479432876Z",
     "start_time": "2024-02-16T10:48:15.456396383Z"
    }
   },
   "id": "4a27a374ed7d2ecc",
   "execution_count": 21
  },
  {
   "cell_type": "code",
   "outputs": [
    {
     "data": {
      "text/plain": "dateCrawled            object\nname                   object\nseller                 object\nofferType              object\nprice                  object\nabtest                 object\nvehicleType            object\nyearOfRegistration      int64\ngearbox                object\npowerPS                 int64\nmodel                  object\nodometer               object\nmonthOfRegistration     int64\nfuelType               object\nbrand                  object\nnotRepairedDamage      object\ndateCreated            object\nnrOfPictures            int64\npostalCode              int64\nlastSeen               object\ndtype: object"
     },
     "execution_count": 22,
     "metadata": {},
     "output_type": "execute_result"
    }
   ],
   "source": [
    "# Checking the data types of the columns\n",
    "data.dtypes"
   ],
   "metadata": {
    "collapsed": false,
    "ExecuteTime": {
     "end_time": "2024-02-16T10:48:17.481660905Z",
     "start_time": "2024-02-16T10:48:16.431654380Z"
    }
   },
   "id": "560a18b5eb55efdb",
   "execution_count": 22
  },
  {
   "cell_type": "code",
   "outputs": [
    {
     "data": {
      "text/plain": "           dateCrawled                                               name  \\\n0  2016-03-26 17:47:46                   Peugeot_807_160_NAVTECH_ON_BOARD   \n1  2016-04-04 13:38:56         BMW_740i_4_4_Liter_HAMANN_UMBAU_Mega_Optik   \n2  2016-03-26 18:57:24                         Volkswagen_Golf_1.6_United   \n3  2016-03-12 16:58:10  Smart_smart_fortwo_coupe_softouch/F1/Klima/Pan...   \n4  2016-04-01 14:38:50  Ford_Focus_1_6_Benzin_TÜV_neu_ist_sehr_gepfleg...   \n\n   seller offerType   price   abtest vehicleType  yearOfRegistration  \\\n0  privat   Angebot  $5,000  control         bus                2004   \n1  privat   Angebot  $8,500  control   limousine                1997   \n2  privat   Angebot  $8,990     test   limousine                2009   \n3  privat   Angebot  $4,350  control  kleinwagen                2007   \n4  privat   Angebot  $1,350     test       kombi                2003   \n\n     gearbox  powerPS   model   odometer  monthOfRegistration fuelType  \\\n0    manuell      158  andere  150,000km                    3      lpg   \n1  automatik      286     7er  150,000km                    6   benzin   \n2    manuell      102    golf   70,000km                    7   benzin   \n3  automatik       71  fortwo   70,000km                    6   benzin   \n4    manuell        0   focus  150,000km                    7   benzin   \n\n        brand notRepairedDamage          dateCreated  nrOfPictures  \\\n0     peugeot              nein  2016-03-26 00:00:00             0   \n1         bmw              nein  2016-04-04 00:00:00             0   \n2  volkswagen              nein  2016-03-26 00:00:00             0   \n3       smart              nein  2016-03-12 00:00:00             0   \n4        ford              nein  2016-04-01 00:00:00             0   \n\n   postalCode             lastSeen  \n0       79588  2016-04-06 06:45:54  \n1       71034  2016-04-06 14:45:08  \n2       35394  2016-04-06 20:15:37  \n3       33729  2016-03-15 03:16:28  \n4       39218  2016-04-01 14:38:50  ",
      "text/html": "<div>\n<style scoped>\n    .dataframe tbody tr th:only-of-type {\n        vertical-align: middle;\n    }\n\n    .dataframe tbody tr th {\n        vertical-align: top;\n    }\n\n    .dataframe thead th {\n        text-align: right;\n    }\n</style>\n<table border=\"1\" class=\"dataframe\">\n  <thead>\n    <tr style=\"text-align: right;\">\n      <th></th>\n      <th>dateCrawled</th>\n      <th>name</th>\n      <th>seller</th>\n      <th>offerType</th>\n      <th>price</th>\n      <th>abtest</th>\n      <th>vehicleType</th>\n      <th>yearOfRegistration</th>\n      <th>gearbox</th>\n      <th>powerPS</th>\n      <th>model</th>\n      <th>odometer</th>\n      <th>monthOfRegistration</th>\n      <th>fuelType</th>\n      <th>brand</th>\n      <th>notRepairedDamage</th>\n      <th>dateCreated</th>\n      <th>nrOfPictures</th>\n      <th>postalCode</th>\n      <th>lastSeen</th>\n    </tr>\n  </thead>\n  <tbody>\n    <tr>\n      <th>0</th>\n      <td>2016-03-26 17:47:46</td>\n      <td>Peugeot_807_160_NAVTECH_ON_BOARD</td>\n      <td>privat</td>\n      <td>Angebot</td>\n      <td>$5,000</td>\n      <td>control</td>\n      <td>bus</td>\n      <td>2004</td>\n      <td>manuell</td>\n      <td>158</td>\n      <td>andere</td>\n      <td>150,000km</td>\n      <td>3</td>\n      <td>lpg</td>\n      <td>peugeot</td>\n      <td>nein</td>\n      <td>2016-03-26 00:00:00</td>\n      <td>0</td>\n      <td>79588</td>\n      <td>2016-04-06 06:45:54</td>\n    </tr>\n    <tr>\n      <th>1</th>\n      <td>2016-04-04 13:38:56</td>\n      <td>BMW_740i_4_4_Liter_HAMANN_UMBAU_Mega_Optik</td>\n      <td>privat</td>\n      <td>Angebot</td>\n      <td>$8,500</td>\n      <td>control</td>\n      <td>limousine</td>\n      <td>1997</td>\n      <td>automatik</td>\n      <td>286</td>\n      <td>7er</td>\n      <td>150,000km</td>\n      <td>6</td>\n      <td>benzin</td>\n      <td>bmw</td>\n      <td>nein</td>\n      <td>2016-04-04 00:00:00</td>\n      <td>0</td>\n      <td>71034</td>\n      <td>2016-04-06 14:45:08</td>\n    </tr>\n    <tr>\n      <th>2</th>\n      <td>2016-03-26 18:57:24</td>\n      <td>Volkswagen_Golf_1.6_United</td>\n      <td>privat</td>\n      <td>Angebot</td>\n      <td>$8,990</td>\n      <td>test</td>\n      <td>limousine</td>\n      <td>2009</td>\n      <td>manuell</td>\n      <td>102</td>\n      <td>golf</td>\n      <td>70,000km</td>\n      <td>7</td>\n      <td>benzin</td>\n      <td>volkswagen</td>\n      <td>nein</td>\n      <td>2016-03-26 00:00:00</td>\n      <td>0</td>\n      <td>35394</td>\n      <td>2016-04-06 20:15:37</td>\n    </tr>\n    <tr>\n      <th>3</th>\n      <td>2016-03-12 16:58:10</td>\n      <td>Smart_smart_fortwo_coupe_softouch/F1/Klima/Pan...</td>\n      <td>privat</td>\n      <td>Angebot</td>\n      <td>$4,350</td>\n      <td>control</td>\n      <td>kleinwagen</td>\n      <td>2007</td>\n      <td>automatik</td>\n      <td>71</td>\n      <td>fortwo</td>\n      <td>70,000km</td>\n      <td>6</td>\n      <td>benzin</td>\n      <td>smart</td>\n      <td>nein</td>\n      <td>2016-03-12 00:00:00</td>\n      <td>0</td>\n      <td>33729</td>\n      <td>2016-03-15 03:16:28</td>\n    </tr>\n    <tr>\n      <th>4</th>\n      <td>2016-04-01 14:38:50</td>\n      <td>Ford_Focus_1_6_Benzin_TÜV_neu_ist_sehr_gepfleg...</td>\n      <td>privat</td>\n      <td>Angebot</td>\n      <td>$1,350</td>\n      <td>test</td>\n      <td>kombi</td>\n      <td>2003</td>\n      <td>manuell</td>\n      <td>0</td>\n      <td>focus</td>\n      <td>150,000km</td>\n      <td>7</td>\n      <td>benzin</td>\n      <td>ford</td>\n      <td>nein</td>\n      <td>2016-04-01 00:00:00</td>\n      <td>0</td>\n      <td>39218</td>\n      <td>2016-04-01 14:38:50</td>\n    </tr>\n  </tbody>\n</table>\n</div>"
     },
     "execution_count": 23,
     "metadata": {},
     "output_type": "execute_result"
    }
   ],
   "source": [
    "data.head()"
   ],
   "metadata": {
    "collapsed": false,
    "ExecuteTime": {
     "end_time": "2024-02-16T10:48:17.501778232Z",
     "start_time": "2024-02-16T10:48:16.775049921Z"
    }
   },
   "id": "c38f3ae7613d8121",
   "execution_count": 23
  },
  {
   "cell_type": "markdown",
   "source": [
    "We will convert the 'dateCrawled', 'dateCreated', 'lastSeen' columns to datetime data type."
   ],
   "metadata": {
    "collapsed": false
   },
   "id": "1c35f649a5031270"
  },
  {
   "cell_type": "code",
   "outputs": [
    {
     "data": {
      "text/plain": "dateCrawled            datetime64[ns]\nname                           object\nseller                         object\nofferType                      object\nprice                          object\nabtest                         object\nvehicleType                    object\nyearOfRegistration              int64\ngearbox                        object\npowerPS                         int64\nmodel                          object\nodometer                       object\nmonthOfRegistration             int64\nfuelType                       object\nbrand                          object\nnotRepairedDamage              object\ndateCreated            datetime64[ns]\nnrOfPictures                    int64\npostalCode                      int64\nlastSeen               datetime64[ns]\ndtype: object"
     },
     "execution_count": 24,
     "metadata": {},
     "output_type": "execute_result"
    }
   ],
   "source": [
    "# Converting the 'dateCrawled', 'dateCreated', 'lastSeen' columns to datetime data type\n",
    "data['dateCrawled'] = pd.to_datetime(data['dateCrawled'])\n",
    "data['dateCreated'] = pd.to_datetime(data['dateCreated'])\n",
    "data['lastSeen'] = pd.to_datetime(data['lastSeen'])\n",
    "\n",
    "# Checking the data types of the columns\n",
    "data.dtypes"
   ],
   "metadata": {
    "collapsed": false,
    "ExecuteTime": {
     "end_time": "2024-02-16T10:48:18.070408647Z",
     "start_time": "2024-02-16T10:48:17.591900179Z"
    }
   },
   "id": "122f338952078837",
   "execution_count": 24
  },
  {
   "cell_type": "markdown",
   "source": [
    "We will now check for duplicate rows in the data and drop them."
   ],
   "metadata": {
    "collapsed": false
   },
   "id": "5d20fbb0f1280d12"
  },
  {
   "cell_type": "code",
   "outputs": [
    {
     "data": {
      "text/plain": "0"
     },
     "execution_count": 25,
     "metadata": {},
     "output_type": "execute_result"
    }
   ],
   "source": [
    "# Checking for duplicate rows\n",
    "data.duplicated().sum()"
   ],
   "metadata": {
    "collapsed": false,
    "ExecuteTime": {
     "end_time": "2024-02-16T10:48:18.623052816Z",
     "start_time": "2024-02-16T10:48:17.822629587Z"
    }
   },
   "id": "63097f6a58c5dab7",
   "execution_count": 25
  },
  {
   "cell_type": "markdown",
   "source": [
    "We have no duplicates in the data. Now we check on possible outliers in the data."
   ],
   "metadata": {
    "collapsed": false
   },
   "id": "44c5bdb0d8c794b6"
  },
  {
   "cell_type": "code",
   "outputs": [
    {
     "data": {
      "text/plain": "       yearOfRegistration       powerPS  monthOfRegistration  nrOfPictures  \\\ncount        50000.000000  50000.000000         50000.000000       50000.0   \nmean          2005.073280    116.355920             5.723360           0.0   \nstd            105.712813    209.216627             3.711984           0.0   \nmin           1000.000000      0.000000             0.000000           0.0   \n25%           1999.000000     70.000000             3.000000           0.0   \n50%           2003.000000    105.000000             6.000000           0.0   \n75%           2008.000000    150.000000             9.000000           0.0   \nmax           9999.000000  17700.000000            12.000000           0.0   \n\n         postalCode  \ncount  50000.000000  \nmean   50813.627300  \nstd    25779.747957  \nmin     1067.000000  \n25%    30451.000000  \n50%    49577.000000  \n75%    71540.000000  \nmax    99998.000000  ",
      "text/html": "<div>\n<style scoped>\n    .dataframe tbody tr th:only-of-type {\n        vertical-align: middle;\n    }\n\n    .dataframe tbody tr th {\n        vertical-align: top;\n    }\n\n    .dataframe thead th {\n        text-align: right;\n    }\n</style>\n<table border=\"1\" class=\"dataframe\">\n  <thead>\n    <tr style=\"text-align: right;\">\n      <th></th>\n      <th>yearOfRegistration</th>\n      <th>powerPS</th>\n      <th>monthOfRegistration</th>\n      <th>nrOfPictures</th>\n      <th>postalCode</th>\n    </tr>\n  </thead>\n  <tbody>\n    <tr>\n      <th>count</th>\n      <td>50000.000000</td>\n      <td>50000.000000</td>\n      <td>50000.000000</td>\n      <td>50000.0</td>\n      <td>50000.000000</td>\n    </tr>\n    <tr>\n      <th>mean</th>\n      <td>2005.073280</td>\n      <td>116.355920</td>\n      <td>5.723360</td>\n      <td>0.0</td>\n      <td>50813.627300</td>\n    </tr>\n    <tr>\n      <th>std</th>\n      <td>105.712813</td>\n      <td>209.216627</td>\n      <td>3.711984</td>\n      <td>0.0</td>\n      <td>25779.747957</td>\n    </tr>\n    <tr>\n      <th>min</th>\n      <td>1000.000000</td>\n      <td>0.000000</td>\n      <td>0.000000</td>\n      <td>0.0</td>\n      <td>1067.000000</td>\n    </tr>\n    <tr>\n      <th>25%</th>\n      <td>1999.000000</td>\n      <td>70.000000</td>\n      <td>3.000000</td>\n      <td>0.0</td>\n      <td>30451.000000</td>\n    </tr>\n    <tr>\n      <th>50%</th>\n      <td>2003.000000</td>\n      <td>105.000000</td>\n      <td>6.000000</td>\n      <td>0.0</td>\n      <td>49577.000000</td>\n    </tr>\n    <tr>\n      <th>75%</th>\n      <td>2008.000000</td>\n      <td>150.000000</td>\n      <td>9.000000</td>\n      <td>0.0</td>\n      <td>71540.000000</td>\n    </tr>\n    <tr>\n      <th>max</th>\n      <td>9999.000000</td>\n      <td>17700.000000</td>\n      <td>12.000000</td>\n      <td>0.0</td>\n      <td>99998.000000</td>\n    </tr>\n  </tbody>\n</table>\n</div>"
     },
     "execution_count": 28,
     "metadata": {},
     "output_type": "execute_result"
    }
   ],
   "source": [
    "# Checking for outliers\n",
    "data.describe()\n"
   ],
   "metadata": {
    "collapsed": false,
    "ExecuteTime": {
     "end_time": "2024-02-16T10:50:24.712584613Z",
     "start_time": "2024-02-16T10:50:24.521931450Z"
    }
   },
   "id": "98e883785d7e7273",
   "execution_count": 28
  },
  {
   "cell_type": "markdown",
   "source": [
    "Using price column first, we will check for outliers using the boxplot. But before we start, we will have to remove '$'and convert the data type to float from object."
   ],
   "metadata": {
    "collapsed": false
   },
   "id": "5030731ff861947e"
  },
  {
   "cell_type": "code",
   "outputs": [
    {
     "name": "stderr",
     "output_type": "stream",
     "text": [
      "/tmp/ipykernel_16902/297540247.py:3: FutureWarning: The default value of regex will change from True to False in a future version. In addition, single character regular expressions will *not* be treated as literal strings when regex=True.\n",
      "  data['price'] = data['price'].str.replace('$', '').str.replace(',', '').astype(float)\n"
     ]
    },
    {
     "data": {
      "text/plain": "<Figure size 1000x500 with 1 Axes>",
      "image/png": "[encoded data removed]"
     },
     "metadata": {},
     "output_type": "display_data"
    }
   ],
   "source": [
    "# Removing '$' from the price column and converting the data type to float from object\n",
    "data['price'] = data['price'].astype(str)\n",
    "data['price'] = data['price'].str.replace('$', '').str.replace(',', '').astype(float)\n",
    "\n",
    "# Checking for outliers in the price column\n",
    "plt.figure(figsize=(10, 5))\n",
    "sns.boxplot(data['price'])\n",
    "plt.title('Boxplot of Price')\n",
    "plt.show()"
   ],
   "metadata": {
    "collapsed": false,
    "ExecuteTime": {
     "end_time": "2024-02-16T11:05:16.575542170Z",
     "start_time": "2024-02-16T11:05:15.327322345Z"
    }
   },
   "id": "6096191956dc9411",
   "execution_count": 35
  }
 ],
 "metadata": {
  "kernelspec": {
   "display_name": "Python 3",
   "language": "python",
   "name": "python3"
  },
  "language_info": {
   "codemirror_mode": {
    "name": "ipython",
    "version": 2
   },
   "file_extension": ".py",
   "mimetype": "text/x-python",
   "name": "python",
   "nbconvert_exporter": "python",
   "pygments_lexer": "ipython2",
   "version": "2.7.6"
  }
 },
 "nbformat": 4,
 "nbformat_minor": 5
}
