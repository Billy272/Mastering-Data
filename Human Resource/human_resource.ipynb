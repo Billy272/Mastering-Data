{
 "cells": [
  {
   "cell_type": "markdown",
   "source": [
    "***HUMAN RESOURCE ANALYTICS***"
   ],
   "metadata": {
    "collapsed": false
   },
   "id": "a2e25ca07383403f"
  },
  {
   "cell_type": "code",
   "execution_count": 1,
   "id": "initial_id",
   "metadata": {
    "collapsed": true,
    "ExecuteTime": {
     "end_time": "2024-01-25T05:43:45.624083765Z",
     "start_time": "2024-01-25T05:43:44.855394842Z"
    }
   },
   "outputs": [
    {
     "name": "stdout",
     "output_type": "stream",
     "text": [
      "              Employee_Name  EmpID  MarriedID  MaritalStatusID  GenderID  \\\n",
      "0       Adinolfi, Wilson  K  10026          0                0         1   \n",
      "1  Ait Sidi, Karthikeyan     10084          1                1         1   \n",
      "2         Akinkuolie, Sarah  10196          1                1         0   \n",
      "3              Alagbe,Trina  10088          1                1         0   \n",
      "4          Anderson, Carol   10069          0                2         0   \n",
      "5         Anderson, Linda    10002          0                0         0   \n",
      "6           Andreola, Colby  10194          0                0         0   \n",
      "7               Athwal, Sam  10062          0                4         1   \n",
      "8          Bachiochi, Linda  10114          0                0         0   \n",
      "9        Bacong, Alejandro   10250          0                2         1   \n",
      "\n",
      "   EmpStatusID  DeptID  PerfScoreID  FromDiversityJobFairID  Salary  ...  \\\n",
      "0            1       5            4                       0   62506  ...   \n",
      "1            5       3            3                       0  104437  ...   \n",
      "2            5       5            3                       0   64955  ...   \n",
      "3            1       5            3                       0   64991  ...   \n",
      "4            5       5            3                       0   50825  ...   \n",
      "5            1       5            4                       0   57568  ...   \n",
      "6            1       4            3                       0   95660  ...   \n",
      "7            1       5            3                       0   59365  ...   \n",
      "8            3       5            3                       1   47837  ...   \n",
      "9            1       3            3                       0   50178  ...   \n",
      "\n",
      "       ManagerName  ManagerID   RecruitmentSource PerformanceScore  \\\n",
      "0   Michael Albert       22.0            LinkedIn          Exceeds   \n",
      "1       Simon Roup        4.0              Indeed      Fully Meets   \n",
      "2   Kissy Sullivan       20.0            LinkedIn      Fully Meets   \n",
      "3     Elijiah Gray       16.0              Indeed      Fully Meets   \n",
      "4   Webster Butler       39.0       Google Search      Fully Meets   \n",
      "5         Amy Dunn       11.0            LinkedIn          Exceeds   \n",
      "6  Alex Sweetwater       10.0            LinkedIn      Fully Meets   \n",
      "7    Ketsia Liebig       19.0   Employee Referral      Fully Meets   \n",
      "8   Brannon Miller       12.0  Diversity Job Fair      Fully Meets   \n",
      "9     Peter Monroe        7.0              Indeed      Fully Meets   \n",
      "\n",
      "   EngagementSurvey EmpSatisfaction SpecialProjectsCount  \\\n",
      "0              4.60               5                    0   \n",
      "1              4.96               3                    6   \n",
      "2              3.02               3                    0   \n",
      "3              4.84               5                    0   \n",
      "4              5.00               4                    0   \n",
      "5              5.00               5                    0   \n",
      "6              3.04               3                    4   \n",
      "7              5.00               4                    0   \n",
      "8              4.46               3                    0   \n",
      "9              5.00               5                    6   \n",
      "\n",
      "  LastPerformanceReview_Date DaysLateLast30 Absences  \n",
      "0                  1/17/2019              0        1  \n",
      "1                  2/24/2016              0       17  \n",
      "2                  5/15/2012              0        3  \n",
      "3                   1/3/2019              0       15  \n",
      "4                   2/1/2016              0        2  \n",
      "5                   1/7/2019              0       15  \n",
      "6                   1/2/2019              0       19  \n",
      "7                  2/25/2019              0       19  \n",
      "8                  1/25/2019              0        4  \n",
      "9                  2/18/2019              0       16  \n",
      "\n",
      "[10 rows x 36 columns]\n"
     ]
    }
   ],
   "source": [
    "import pandas as pd\n",
    "\n",
    "data = pd.read_csv('./HRDataset_v14.csv')\n",
    "\n",
    "print(data.head(10))"
   ]
  }
 ],
 "metadata": {
  "kernelspec": {
   "display_name": "Python 3",
   "language": "python",
   "name": "python3"
  },
  "language_info": {
   "codemirror_mode": {
    "name": "ipython",
    "version": 2
   },
   "file_extension": ".py",
   "mimetype": "text/x-python",
   "name": "python",
   "nbconvert_exporter": "python",
   "pygments_lexer": "ipython2",
   "version": "2.7.6"
  }
 },
 "nbformat": 4,
 "nbformat_minor": 5
}
