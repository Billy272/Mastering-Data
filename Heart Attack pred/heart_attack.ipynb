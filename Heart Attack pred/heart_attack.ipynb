{
 "cells": [
  {
   "cell_type": "markdown",
   "id": "c435536cc783d6d8",
   "metadata": {
    "collapsed": false
   },
   "source": [
    "***HEART ATTACK ANALYSIS AND PREDICTION***\n",
    "\n",
    "By use of heart.csv dataset, we will try to predict the heart attack based on the given features on the dataset."
   ]
  },
  {
   "cell_type": "code",
   "execution_count": 2,
   "id": "bf377c140b9a4803",
   "metadata": {
    "ExecuteTime": {
     "end_time": "2024-01-24T19:52:32.258828543Z",
     "start_time": "2024-01-24T19:52:31.638617294Z"
    },
    "collapsed": false
   },
   "outputs": [
    {
     "name": "stdout",
     "output_type": "stream",
     "text": [
      "   age  sex  cp  trestbps  chol  fbs  restecg  thalach  exang  oldpeak  slope  \\\n",
      "0   52    1   0       125   212    0        1      168      0      1.0      2   \n",
      "1   53    1   0       140   203    1        0      155      1      3.1      0   \n",
      "2   70    1   0       145   174    0        1      125      1      2.6      0   \n",
      "3   61    1   0       148   203    0        1      161      0      0.0      2   \n",
      "4   62    0   0       138   294    1        1      106      0      1.9      1   \n",
      "5   58    0   0       100   248    0        0      122      0      1.0      1   \n",
      "6   58    1   0       114   318    0        2      140      0      4.4      0   \n",
      "7   55    1   0       160   289    0        0      145      1      0.8      1   \n",
      "8   46    1   0       120   249    0        0      144      0      0.8      2   \n",
      "9   54    1   0       122   286    0        0      116      1      3.2      1   \n",
      "\n",
      "   ca  thal  target  \n",
      "0   2     3    0.23  \n",
      "1   0     3    0.37  \n",
      "2   0     3    0.24  \n",
      "3   1     3    0.28  \n",
      "4   3     2    0.21  \n",
      "5   0     2    0.78  \n",
      "6   3     1    0.37  \n",
      "7   1     3    0.17  \n",
      "8   0     3    0.25  \n",
      "9   2     2    0.23  \n"
     ]
    }
   ],
   "source": [
    "import pandas as pd\n",
    "\n",
    "data = pd.read_csv(\"./heart.csv\")\n",
    "\n",
    "print(data.head(10))"
   ]
  },
  {
   "cell_type": "markdown",
   "id": "5b267795b850172b",
   "metadata": {
    "collapsed": false
   },
   "source": [
    "**Age**: Numeric (e.g., 52)\n",
    "\n",
    "**Sex**: Categorical (0: Female, 1: Male)d\n",
    "\n",
    "**Chest Pain Type**: Categorical (0: Typical Angina, 1: Atypical Angina, 2: Non-anginal Pain, 3: Asymptomatic)d\n",
    "\n",
    "**Resting Blood Pressure**: Numeric (e.g., 125)d\n",
    "\n",
    "**Serum Cholesterol**: Numeric in mg/dL (e.g., 212)d\n",
    "\n",
    "**Fasting Blood Sugar**: Categorical (0: <= 120 mg/dL, 1: > 120 mg/dL)d\n",
    "\n",
    "**Resting Electrocardiographic Results**: Categorical (0: Normal, 1: Abnormality, 2: Hypertrophy)d\n",
    "\n",
    "**Maximum Heart Rate Achieved**: Numeric (e.g., 168)d\n",
    "\n",
    "**Exercise-Induced Angina**: Categorical (0: No, 1: Yes)d\n",
    "\n",
    "**Oldpeak (ST Depression)**: Numeric (e.g., 1.0)d\n",
    "\n",
    "**Slope of Peak Exercise ST Segment**: Categorical (0: Upsloping, 1: Flat, 2: Downsloping)d\n",
    "\n",
    "**Number of Major Vessels Colored by Fluoroscopy**: Numeric (0 to 3)d\n",
    "\n",
    "**Thalassemia**: Categorical (0: Normal, 1: Fixed Defect, 2: Reversible Defect)d\n"
   ]
  },
  {
   "cell_type": "code",
   "execution_count": 3,
   "id": "90acfccf",
   "metadata": {},
   "outputs": [
    {
     "data": {
      "text/plain": [
       "(1025, 14)"
      ]
     },
     "execution_count": 3,
     "metadata": {},
     "output_type": "execute_result"
    }
   ],
   "source": [
    "data.shape"
   ]
  },
  {
   "cell_type": "markdown",
   "id": "13e5fdc0",
   "metadata": {},
   "source": [
    "***Cleaning Data***"
   ]
  },
  {
   "cell_type": "code",
   "execution_count": 4,
   "id": "95798b56",
   "metadata": {},
   "outputs": [
    {
     "data": {
      "text/plain": [
       "age         0\n",
       "sex         0\n",
       "cp          0\n",
       "trestbps    0\n",
       "chol        0\n",
       "fbs         0\n",
       "restecg     0\n",
       "thalach     0\n",
       "exang       0\n",
       "oldpeak     0\n",
       "slope       0\n",
       "ca          0\n",
       "thal        0\n",
       "target      0\n",
       "dtype: int64"
      ]
     },
     "execution_count": 4,
     "metadata": {},
     "output_type": "execute_result"
    }
   ],
   "source": [
    "data.isnull().sum()"
   ]
  },
  {
   "cell_type": "markdown",
   "id": "569633b7",
   "metadata": {},
   "source": [
    "There are no missing values in the whole dataset. Now we check for outliers in continous data."
   ]
  },
  {
   "cell_type": "code",
   "execution_count": null,
   "id": "4daac85c",
   "metadata": {},
   "outputs": [],
   "source": []
  }
 ],
 "metadata": {
  "kernelspec": {
   "display_name": "Python 3",
   "language": "python",
   "name": "python3"
  },
  "language_info": {
   "codemirror_mode": {
    "name": "ipython",
    "version": 3
   },
   "file_extension": ".py",
   "mimetype": "text/x-python",
   "name": "python",
   "nbconvert_exporter": "python",
   "pygments_lexer": "ipython3",
   "version": "3.11.6"
  }
 },
 "nbformat": 4,
 "nbformat_minor": 5
}
