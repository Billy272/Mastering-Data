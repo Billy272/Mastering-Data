{
 "cells": [
  {
   "cell_type": "markdown",
   "source": [
    "**AUTOMOBILE SALES.**\n",
    "\n",
    "**Sample data**\n",
    "\n",
    "Using the Auto Sales data csv file, we will first confirm the data available in the csv file."
   ],
   "metadata": {
    "collapsed": false
   },
   "id": "55bf0288278862e5"
  },
  {
   "cell_type": "code",
   "execution_count": 14,
   "id": "initial_id",
   "metadata": {
    "collapsed": true,
    "ExecuteTime": {
     "end_time": "2023-11-21T18:52:50.469624155Z",
     "start_time": "2023-11-21T18:52:50.284962380Z"
    }
   },
   "outputs": [
    {
     "data": {
      "text/plain": "    ORDERNUMBER  QUANTITYORDERED  PRICEEACH  ORDERLINENUMBER    SALES  \\\n0         10107               30      95.70                2  2871.00   \n1         10121               34      81.35                5  2765.90   \n2         10134               41      94.74                2  3884.34   \n3         10145               45      83.26                6  3746.70   \n4         10168               36      96.66                1  3479.76   \n5         10180               29      86.13                9  2497.77   \n6         10188               48     114.84                1  5512.32   \n7         10211               41     114.84               14  4708.44   \n8         10223               37     107.18                1  3965.66   \n9         10237               23     101.44                7  2333.12   \n10        10251               28     113.88                2  3188.64   \n11        10263               34     108.14                2  3676.76   \n12        10275               45      92.83                1  4177.35   \n13        10285               36     113.88                6  4099.68   \n14        10299               23     112.93                9  2597.39   \n15        10309               41     107.18                5  4394.38   \n16        10318               46      94.74                1  4358.04   \n17        10329               42     104.67                1  4396.14   \n18        10341               41     188.73                9  7737.93   \n19        10361               20      72.55               13  1451.00   \n\n     ORDERDATE  DAYS_SINCE_LASTORDER   STATUS  PRODUCTLINE  MSRP PRODUCTCODE  \\\n0   24/02/2018                   828  Shipped  Motorcycles    95    S10_1678   \n1   07/05/2018                   757  Shipped  Motorcycles    95    S10_1678   \n2   01/07/2018                   703  Shipped  Motorcycles    95    S10_1678   \n3   25/08/2018                   649  Shipped  Motorcycles    95    S10_1678   \n4   28/10/2018                   586  Shipped  Motorcycles    95    S10_1678   \n5   11/11/2018                   573  Shipped  Motorcycles    95    S10_1678   \n6   18/11/2018                   567  Shipped  Motorcycles    95    S10_1678   \n7   15/01/2019                   510  Shipped  Motorcycles    95    S10_1678   \n8   20/02/2019                   475  Shipped  Motorcycles    95    S10_1678   \n9   05/04/2019                   432  Shipped  Motorcycles    95    S10_1678   \n10  18/05/2019                   390  Shipped  Motorcycles    95    S10_1678   \n11  28/06/2019                   350  Shipped  Motorcycles    95    S10_1678   \n12  23/07/2019                   326  Shipped  Motorcycles    95    S10_1678   \n13  27/08/2019                   292  Shipped  Motorcycles    95    S10_1678   \n14  30/09/2019                   259  Shipped  Motorcycles    95    S10_1678   \n15  15/10/2019                   245  Shipped  Motorcycles    95    S10_1678   \n16  02/11/2019                   228  Shipped  Motorcycles    95    S10_1678   \n17  15/11/2019                   216  Shipped  Motorcycles    95    S10_1678   \n18  24/11/2019                   208  Shipped  Motorcycles    95    S10_1678   \n19  17/12/2019                   186  Shipped  Motorcycles    95    S10_1678   \n\n                  CUSTOMERNAME             PHONE  \\\n0            Land of Toys Inc.        2125557818   \n1           Reims Collectables        26.47.1555   \n2              Lyon Souveniers  +33 1 46 62 7555   \n3            Toys4GrownUps.com        6265557265   \n4         Technics Stores Inc.        6505556809   \n5     Daedalus Designs Imports        20.16.1555   \n6                 Herkku Gifts     +47 2267 3215   \n7             Auto Canal Petit    (1) 47.55.6555   \n8   Australian Collectors, Co.      03 9520 4555   \n9              Vitachrome Inc.        2125551500   \n10     Tekni Collectables Inc.        2015559350   \n11             Gift Depot Inc.        2035552570   \n12           La Rochelle Gifts        40.67.8555   \n13        Marta's Replicas Co.        6175558555   \n14        Toys of Finland, Co.       90-224 8555   \n15          Baane Mini Imports        07-98 9555   \n16       Diecast Classics Inc.        2155551555   \n17           Land of Toys Inc.        2125557818   \n18       Salzburg Collectables         6562-9555   \n19   Souveniers And Things Co.   +61 2 9495 8555   \n\n                               ADDRESSLINE1         CITY POSTALCODE  \\\n0                   897 Long Airport Avenue          NYC      10022   \n1                        59 rue de l'Abbaye        Reims      51100   \n2             27 rue du Colonel Pierre Avia        Paris      75508   \n3                        78934 Hillside Dr.     Pasadena      90003   \n4                         9408 Furth Circle   Burlingame      94217   \n5                   184, chausse de Tournai        Lille      59000   \n6               Drammen 121, PR 744 Sentrum       Bergen     N 5804   \n7                         25, rue Lauriston        Paris      75016   \n8                         636 St Kilda Road    Melbourne       3004   \n9                         2678 Kingston Rd.          NYC      10022   \n10                            7476 Moss Rd.       Newark      94019   \n11                      25593 South Bay Ln.  Bridgewater      97562   \n12             67, rue des Cinquante Otages       Nantes      44000   \n13                      39323 Spinnaker Dr.    Cambridge      51247   \n14                            Keskuskatu 45     Helsinki      21240   \n15                   Erling Skakkes gate 78      Stavern       4110   \n16                         7586 Pompton St.    Allentown      70267   \n17                  897 Long Airport Avenue          NYC      10022   \n18                              Geislweg 14     Salzburg       5020   \n19  Monitor Money Building, 815 Pacific Hwy    Chatswood       2067   \n\n      COUNTRY CONTACTLASTNAME CONTACTFIRSTNAME DEALSIZE  \n0         USA              Yu             Kwai    Small  \n1      France         Henriot             Paul    Small  \n2      France        Da Cunha           Daniel   Medium  \n3         USA           Young            Julie   Medium  \n4         USA          Hirano             Juri   Medium  \n5      France           Rance          Martine    Small  \n6      Norway          Oeztan           Veysel   Medium  \n7      France         Perrier        Dominique   Medium  \n8   Australia        Ferguson            Peter   Medium  \n9         USA           Frick          Michael    Small  \n10        USA           Brown          William   Medium  \n11        USA            King            Julie   Medium  \n12     France         Labrune           Janine   Medium  \n13        USA       Hernandez            Marta   Medium  \n14    Finland       Karttunen            Matti    Small  \n15     Norway      Bergulfsen            Jonas   Medium  \n16        USA              Yu            Kyung   Medium  \n17        USA              Yu             Kwai   Medium  \n18    Austria           Pipps            Georg    Large  \n19  Australia          Huxley           Adrian    Small  ",
      "text/html": "<div>\n<style scoped>\n    .dataframe tbody tr th:only-of-type {\n        vertical-align: middle;\n    }\n\n    .dataframe tbody tr th {\n        vertical-align: top;\n    }\n\n    .dataframe thead th {\n        text-align: right;\n    }\n</style>\n<table border=\"1\" class=\"dataframe\">\n  <thead>\n    <tr style=\"text-align: right;\">\n      <th></th>\n      <th>ORDERNUMBER</th>\n      <th>QUANTITYORDERED</th>\n      <th>PRICEEACH</th>\n      <th>ORDERLINENUMBER</th>\n      <th>SALES</th>\n      <th>ORDERDATE</th>\n      <th>DAYS_SINCE_LASTORDER</th>\n      <th>STATUS</th>\n      <th>PRODUCTLINE</th>\n      <th>MSRP</th>\n      <th>PRODUCTCODE</th>\n      <th>CUSTOMERNAME</th>\n      <th>PHONE</th>\n      <th>ADDRESSLINE1</th>\n      <th>CITY</th>\n      <th>POSTALCODE</th>\n      <th>COUNTRY</th>\n      <th>CONTACTLASTNAME</th>\n      <th>CONTACTFIRSTNAME</th>\n      <th>DEALSIZE</th>\n    </tr>\n  </thead>\n  <tbody>\n    <tr>\n      <th>0</th>\n      <td>10107</td>\n      <td>30</td>\n      <td>95.70</td>\n      <td>2</td>\n      <td>2871.00</td>\n      <td>24/02/2018</td>\n      <td>828</td>\n      <td>Shipped</td>\n      <td>Motorcycles</td>\n      <td>95</td>\n      <td>S10_1678</td>\n      <td>Land of Toys Inc.</td>\n      <td>2125557818</td>\n      <td>897 Long Airport Avenue</td>\n      <td>NYC</td>\n      <td>10022</td>\n      <td>USA</td>\n      <td>Yu</td>\n      <td>Kwai</td>\n      <td>Small</td>\n    </tr>\n    <tr>\n      <th>1</th>\n      <td>10121</td>\n      <td>34</td>\n      <td>81.35</td>\n      <td>5</td>\n      <td>2765.90</td>\n      <td>07/05/2018</td>\n      <td>757</td>\n      <td>Shipped</td>\n      <td>Motorcycles</td>\n      <td>95</td>\n      <td>S10_1678</td>\n      <td>Reims Collectables</td>\n      <td>26.47.1555</td>\n      <td>59 rue de l'Abbaye</td>\n      <td>Reims</td>\n      <td>51100</td>\n      <td>France</td>\n      <td>Henriot</td>\n      <td>Paul</td>\n      <td>Small</td>\n    </tr>\n    <tr>\n      <th>2</th>\n      <td>10134</td>\n      <td>41</td>\n      <td>94.74</td>\n      <td>2</td>\n      <td>3884.34</td>\n      <td>01/07/2018</td>\n      <td>703</td>\n      <td>Shipped</td>\n      <td>Motorcycles</td>\n      <td>95</td>\n      <td>S10_1678</td>\n      <td>Lyon Souveniers</td>\n      <td>+33 1 46 62 7555</td>\n      <td>27 rue du Colonel Pierre Avia</td>\n      <td>Paris</td>\n      <td>75508</td>\n      <td>France</td>\n      <td>Da Cunha</td>\n      <td>Daniel</td>\n      <td>Medium</td>\n    </tr>\n    <tr>\n      <th>3</th>\n      <td>10145</td>\n      <td>45</td>\n      <td>83.26</td>\n      <td>6</td>\n      <td>3746.70</td>\n      <td>25/08/2018</td>\n      <td>649</td>\n      <td>Shipped</td>\n      <td>Motorcycles</td>\n      <td>95</td>\n      <td>S10_1678</td>\n      <td>Toys4GrownUps.com</td>\n      <td>6265557265</td>\n      <td>78934 Hillside Dr.</td>\n      <td>Pasadena</td>\n      <td>90003</td>\n      <td>USA</td>\n      <td>Young</td>\n      <td>Julie</td>\n      <td>Medium</td>\n    </tr>\n    <tr>\n      <th>4</th>\n      <td>10168</td>\n      <td>36</td>\n      <td>96.66</td>\n      <td>1</td>\n      <td>3479.76</td>\n      <td>28/10/2018</td>\n      <td>586</td>\n      <td>Shipped</td>\n      <td>Motorcycles</td>\n      <td>95</td>\n      <td>S10_1678</td>\n      <td>Technics Stores Inc.</td>\n      <td>6505556809</td>\n      <td>9408 Furth Circle</td>\n      <td>Burlingame</td>\n      <td>94217</td>\n      <td>USA</td>\n      <td>Hirano</td>\n      <td>Juri</td>\n      <td>Medium</td>\n    </tr>\n    <tr>\n      <th>5</th>\n      <td>10180</td>\n      <td>29</td>\n      <td>86.13</td>\n      <td>9</td>\n      <td>2497.77</td>\n      <td>11/11/2018</td>\n      <td>573</td>\n      <td>Shipped</td>\n      <td>Motorcycles</td>\n      <td>95</td>\n      <td>S10_1678</td>\n      <td>Daedalus Designs Imports</td>\n      <td>20.16.1555</td>\n      <td>184, chausse de Tournai</td>\n      <td>Lille</td>\n      <td>59000</td>\n      <td>France</td>\n      <td>Rance</td>\n      <td>Martine</td>\n      <td>Small</td>\n    </tr>\n    <tr>\n      <th>6</th>\n      <td>10188</td>\n      <td>48</td>\n      <td>114.84</td>\n      <td>1</td>\n      <td>5512.32</td>\n      <td>18/11/2018</td>\n      <td>567</td>\n      <td>Shipped</td>\n      <td>Motorcycles</td>\n      <td>95</td>\n      <td>S10_1678</td>\n      <td>Herkku Gifts</td>\n      <td>+47 2267 3215</td>\n      <td>Drammen 121, PR 744 Sentrum</td>\n      <td>Bergen</td>\n      <td>N 5804</td>\n      <td>Norway</td>\n      <td>Oeztan</td>\n      <td>Veysel</td>\n      <td>Medium</td>\n    </tr>\n    <tr>\n      <th>7</th>\n      <td>10211</td>\n      <td>41</td>\n      <td>114.84</td>\n      <td>14</td>\n      <td>4708.44</td>\n      <td>15/01/2019</td>\n      <td>510</td>\n      <td>Shipped</td>\n      <td>Motorcycles</td>\n      <td>95</td>\n      <td>S10_1678</td>\n      <td>Auto Canal Petit</td>\n      <td>(1) 47.55.6555</td>\n      <td>25, rue Lauriston</td>\n      <td>Paris</td>\n      <td>75016</td>\n      <td>France</td>\n      <td>Perrier</td>\n      <td>Dominique</td>\n      <td>Medium</td>\n    </tr>\n    <tr>\n      <th>8</th>\n      <td>10223</td>\n      <td>37</td>\n      <td>107.18</td>\n      <td>1</td>\n      <td>3965.66</td>\n      <td>20/02/2019</td>\n      <td>475</td>\n      <td>Shipped</td>\n      <td>Motorcycles</td>\n      <td>95</td>\n      <td>S10_1678</td>\n      <td>Australian Collectors, Co.</td>\n      <td>03 9520 4555</td>\n      <td>636 St Kilda Road</td>\n      <td>Melbourne</td>\n      <td>3004</td>\n      <td>Australia</td>\n      <td>Ferguson</td>\n      <td>Peter</td>\n      <td>Medium</td>\n    </tr>\n    <tr>\n      <th>9</th>\n      <td>10237</td>\n      <td>23</td>\n      <td>101.44</td>\n      <td>7</td>\n      <td>2333.12</td>\n      <td>05/04/2019</td>\n      <td>432</td>\n      <td>Shipped</td>\n      <td>Motorcycles</td>\n      <td>95</td>\n      <td>S10_1678</td>\n      <td>Vitachrome Inc.</td>\n      <td>2125551500</td>\n      <td>2678 Kingston Rd.</td>\n      <td>NYC</td>\n      <td>10022</td>\n      <td>USA</td>\n      <td>Frick</td>\n      <td>Michael</td>\n      <td>Small</td>\n    </tr>\n    <tr>\n      <th>10</th>\n      <td>10251</td>\n      <td>28</td>\n      <td>113.88</td>\n      <td>2</td>\n      <td>3188.64</td>\n      <td>18/05/2019</td>\n      <td>390</td>\n      <td>Shipped</td>\n      <td>Motorcycles</td>\n      <td>95</td>\n      <td>S10_1678</td>\n      <td>Tekni Collectables Inc.</td>\n      <td>2015559350</td>\n      <td>7476 Moss Rd.</td>\n      <td>Newark</td>\n      <td>94019</td>\n      <td>USA</td>\n      <td>Brown</td>\n      <td>William</td>\n      <td>Medium</td>\n    </tr>\n    <tr>\n      <th>11</th>\n      <td>10263</td>\n      <td>34</td>\n      <td>108.14</td>\n      <td>2</td>\n      <td>3676.76</td>\n      <td>28/06/2019</td>\n      <td>350</td>\n      <td>Shipped</td>\n      <td>Motorcycles</td>\n      <td>95</td>\n      <td>S10_1678</td>\n      <td>Gift Depot Inc.</td>\n      <td>2035552570</td>\n      <td>25593 South Bay Ln.</td>\n      <td>Bridgewater</td>\n      <td>97562</td>\n      <td>USA</td>\n      <td>King</td>\n      <td>Julie</td>\n      <td>Medium</td>\n    </tr>\n    <tr>\n      <th>12</th>\n      <td>10275</td>\n      <td>45</td>\n      <td>92.83</td>\n      <td>1</td>\n      <td>4177.35</td>\n      <td>23/07/2019</td>\n      <td>326</td>\n      <td>Shipped</td>\n      <td>Motorcycles</td>\n      <td>95</td>\n      <td>S10_1678</td>\n      <td>La Rochelle Gifts</td>\n      <td>40.67.8555</td>\n      <td>67, rue des Cinquante Otages</td>\n      <td>Nantes</td>\n      <td>44000</td>\n      <td>France</td>\n      <td>Labrune</td>\n      <td>Janine</td>\n      <td>Medium</td>\n    </tr>\n    <tr>\n      <th>13</th>\n      <td>10285</td>\n      <td>36</td>\n      <td>113.88</td>\n      <td>6</td>\n      <td>4099.68</td>\n      <td>27/08/2019</td>\n      <td>292</td>\n      <td>Shipped</td>\n      <td>Motorcycles</td>\n      <td>95</td>\n      <td>S10_1678</td>\n      <td>Marta's Replicas Co.</td>\n      <td>6175558555</td>\n      <td>39323 Spinnaker Dr.</td>\n      <td>Cambridge</td>\n      <td>51247</td>\n      <td>USA</td>\n      <td>Hernandez</td>\n      <td>Marta</td>\n      <td>Medium</td>\n    </tr>\n    <tr>\n      <th>14</th>\n      <td>10299</td>\n      <td>23</td>\n      <td>112.93</td>\n      <td>9</td>\n      <td>2597.39</td>\n      <td>30/09/2019</td>\n      <td>259</td>\n      <td>Shipped</td>\n      <td>Motorcycles</td>\n      <td>95</td>\n      <td>S10_1678</td>\n      <td>Toys of Finland, Co.</td>\n      <td>90-224 8555</td>\n      <td>Keskuskatu 45</td>\n      <td>Helsinki</td>\n      <td>21240</td>\n      <td>Finland</td>\n      <td>Karttunen</td>\n      <td>Matti</td>\n      <td>Small</td>\n    </tr>\n    <tr>\n      <th>15</th>\n      <td>10309</td>\n      <td>41</td>\n      <td>107.18</td>\n      <td>5</td>\n      <td>4394.38</td>\n      <td>15/10/2019</td>\n      <td>245</td>\n      <td>Shipped</td>\n      <td>Motorcycles</td>\n      <td>95</td>\n      <td>S10_1678</td>\n      <td>Baane Mini Imports</td>\n      <td>07-98 9555</td>\n      <td>Erling Skakkes gate 78</td>\n      <td>Stavern</td>\n      <td>4110</td>\n      <td>Norway</td>\n      <td>Bergulfsen</td>\n      <td>Jonas</td>\n      <td>Medium</td>\n    </tr>\n    <tr>\n      <th>16</th>\n      <td>10318</td>\n      <td>46</td>\n      <td>94.74</td>\n      <td>1</td>\n      <td>4358.04</td>\n      <td>02/11/2019</td>\n      <td>228</td>\n      <td>Shipped</td>\n      <td>Motorcycles</td>\n      <td>95</td>\n      <td>S10_1678</td>\n      <td>Diecast Classics Inc.</td>\n      <td>2155551555</td>\n      <td>7586 Pompton St.</td>\n      <td>Allentown</td>\n      <td>70267</td>\n      <td>USA</td>\n      <td>Yu</td>\n      <td>Kyung</td>\n      <td>Medium</td>\n    </tr>\n    <tr>\n      <th>17</th>\n      <td>10329</td>\n      <td>42</td>\n      <td>104.67</td>\n      <td>1</td>\n      <td>4396.14</td>\n      <td>15/11/2019</td>\n      <td>216</td>\n      <td>Shipped</td>\n      <td>Motorcycles</td>\n      <td>95</td>\n      <td>S10_1678</td>\n      <td>Land of Toys Inc.</td>\n      <td>2125557818</td>\n      <td>897 Long Airport Avenue</td>\n      <td>NYC</td>\n      <td>10022</td>\n      <td>USA</td>\n      <td>Yu</td>\n      <td>Kwai</td>\n      <td>Medium</td>\n    </tr>\n    <tr>\n      <th>18</th>\n      <td>10341</td>\n      <td>41</td>\n      <td>188.73</td>\n      <td>9</td>\n      <td>7737.93</td>\n      <td>24/11/2019</td>\n      <td>208</td>\n      <td>Shipped</td>\n      <td>Motorcycles</td>\n      <td>95</td>\n      <td>S10_1678</td>\n      <td>Salzburg Collectables</td>\n      <td>6562-9555</td>\n      <td>Geislweg 14</td>\n      <td>Salzburg</td>\n      <td>5020</td>\n      <td>Austria</td>\n      <td>Pipps</td>\n      <td>Georg</td>\n      <td>Large</td>\n    </tr>\n    <tr>\n      <th>19</th>\n      <td>10361</td>\n      <td>20</td>\n      <td>72.55</td>\n      <td>13</td>\n      <td>1451.00</td>\n      <td>17/12/2019</td>\n      <td>186</td>\n      <td>Shipped</td>\n      <td>Motorcycles</td>\n      <td>95</td>\n      <td>S10_1678</td>\n      <td>Souveniers And Things Co.</td>\n      <td>+61 2 9495 8555</td>\n      <td>Monitor Money Building, 815 Pacific Hwy</td>\n      <td>Chatswood</td>\n      <td>2067</td>\n      <td>Australia</td>\n      <td>Huxley</td>\n      <td>Adrian</td>\n      <td>Small</td>\n    </tr>\n  </tbody>\n</table>\n</div>"
     },
     "execution_count": 14,
     "metadata": {},
     "output_type": "execute_result"
    }
   ],
   "source": [
    "import pandas as pd\n",
    "\n",
    "data = pd.read_csv('Auto Sales data.csv')\n",
    "\n",
    "data.head(20)"
   ]
  },
  {
   "cell_type": "markdown",
   "source": [
    "**Data Cleaning**\n",
    "\n",
    "Let's check for any missing values in the data."
   ],
   "metadata": {
    "collapsed": false
   },
   "id": "99198d19d83ecc47"
  },
  {
   "cell_type": "code",
   "execution_count": 15,
   "outputs": [
    {
     "data": {
      "text/plain": "ORDERNUMBER             0\nQUANTITYORDERED         0\nPRICEEACH               0\nORDERLINENUMBER         0\nSALES                   0\nORDERDATE               0\nDAYS_SINCE_LASTORDER    0\nSTATUS                  0\nPRODUCTLINE             0\nMSRP                    0\nPRODUCTCODE             0\nCUSTOMERNAME            0\nPHONE                   0\nADDRESSLINE1            0\nCITY                    0\nPOSTALCODE              0\nCOUNTRY                 0\nCONTACTLASTNAME         0\nCONTACTFIRSTNAME        0\nDEALSIZE                0\ndtype: int64"
     },
     "execution_count": 15,
     "metadata": {},
     "output_type": "execute_result"
    }
   ],
   "source": [
    "data.isnull().sum()"
   ],
   "metadata": {
    "collapsed": false,
    "ExecuteTime": {
     "end_time": "2023-11-21T18:52:50.483224896Z",
     "start_time": "2023-11-21T18:52:50.418472603Z"
    }
   },
   "id": "fce6c2bd448bd292"
  },
  {
   "cell_type": "markdown",
   "source": [
    "There are no missing values in the data. Let's check the data types of \n",
    "the columns."
   ],
   "metadata": {
    "collapsed": false
   },
   "id": "4f32578a72aa2f2a"
  },
  {
   "cell_type": "code",
   "execution_count": 16,
   "outputs": [
    {
     "data": {
      "text/plain": "ORDERNUMBER               int64\nQUANTITYORDERED           int64\nPRICEEACH               float64\nORDERLINENUMBER           int64\nSALES                   float64\nORDERDATE                object\nDAYS_SINCE_LASTORDER      int64\nSTATUS                   object\nPRODUCTLINE              object\nMSRP                      int64\nPRODUCTCODE              object\nCUSTOMERNAME             object\nPHONE                    object\nADDRESSLINE1             object\nCITY                     object\nPOSTALCODE               object\nCOUNTRY                  object\nCONTACTLASTNAME          object\nCONTACTFIRSTNAME         object\nDEALSIZE                 object\ndtype: object"
     },
     "execution_count": 16,
     "metadata": {},
     "output_type": "execute_result"
    }
   ],
   "source": [
    "data.dtypes"
   ],
   "metadata": {
    "collapsed": false,
    "ExecuteTime": {
     "end_time": "2023-11-21T18:52:50.509011890Z",
     "start_time": "2023-11-21T18:52:50.434656727Z"
    }
   },
   "id": "feb46bf137bbb8a2"
  },
  {
   "cell_type": "markdown",
   "source": [
    "The data types of the columns are as expected, but we are only \n",
    "interested in few columns.So we will eliminate columns:\n",
    "- 'CUSTOMERNAME'\n",
    "- 'PHONE'\n",
    "- 'ADDRESSLINE1'\n",
    "- 'POSTALCODE'\n",
    "- 'CONTACTFIRSTNAME'\n",
    "- 'CONTACTLASTNAME'"
   ],
   "metadata": {
    "collapsed": false
   },
   "id": "3c96743f2cdb6c06"
  },
  {
   "cell_type": "code",
   "execution_count": 17,
   "outputs": [
    {
     "data": {
      "text/plain": "    ORDERNUMBER  QUANTITYORDERED  PRICEEACH  ORDERLINENUMBER    SALES  \\\n0         10107               30      95.70                2  2871.00   \n1         10121               34      81.35                5  2765.90   \n2         10134               41      94.74                2  3884.34   \n3         10145               45      83.26                6  3746.70   \n4         10168               36      96.66                1  3479.76   \n5         10180               29      86.13                9  2497.77   \n6         10188               48     114.84                1  5512.32   \n7         10211               41     114.84               14  4708.44   \n8         10223               37     107.18                1  3965.66   \n9         10237               23     101.44                7  2333.12   \n10        10251               28     113.88                2  3188.64   \n11        10263               34     108.14                2  3676.76   \n12        10275               45      92.83                1  4177.35   \n13        10285               36     113.88                6  4099.68   \n14        10299               23     112.93                9  2597.39   \n15        10309               41     107.18                5  4394.38   \n16        10318               46      94.74                1  4358.04   \n17        10329               42     104.67                1  4396.14   \n18        10341               41     188.73                9  7737.93   \n19        10361               20      72.55               13  1451.00   \n\n     ORDERDATE  DAYS_SINCE_LASTORDER   STATUS  PRODUCTLINE  MSRP PRODUCTCODE  \\\n0   24/02/2018                   828  Shipped  Motorcycles    95    S10_1678   \n1   07/05/2018                   757  Shipped  Motorcycles    95    S10_1678   \n2   01/07/2018                   703  Shipped  Motorcycles    95    S10_1678   \n3   25/08/2018                   649  Shipped  Motorcycles    95    S10_1678   \n4   28/10/2018                   586  Shipped  Motorcycles    95    S10_1678   \n5   11/11/2018                   573  Shipped  Motorcycles    95    S10_1678   \n6   18/11/2018                   567  Shipped  Motorcycles    95    S10_1678   \n7   15/01/2019                   510  Shipped  Motorcycles    95    S10_1678   \n8   20/02/2019                   475  Shipped  Motorcycles    95    S10_1678   \n9   05/04/2019                   432  Shipped  Motorcycles    95    S10_1678   \n10  18/05/2019                   390  Shipped  Motorcycles    95    S10_1678   \n11  28/06/2019                   350  Shipped  Motorcycles    95    S10_1678   \n12  23/07/2019                   326  Shipped  Motorcycles    95    S10_1678   \n13  27/08/2019                   292  Shipped  Motorcycles    95    S10_1678   \n14  30/09/2019                   259  Shipped  Motorcycles    95    S10_1678   \n15  15/10/2019                   245  Shipped  Motorcycles    95    S10_1678   \n16  02/11/2019                   228  Shipped  Motorcycles    95    S10_1678   \n17  15/11/2019                   216  Shipped  Motorcycles    95    S10_1678   \n18  24/11/2019                   208  Shipped  Motorcycles    95    S10_1678   \n19  17/12/2019                   186  Shipped  Motorcycles    95    S10_1678   \n\n           CITY    COUNTRY DEALSIZE  \n0           NYC        USA    Small  \n1         Reims     France    Small  \n2         Paris     France   Medium  \n3      Pasadena        USA   Medium  \n4    Burlingame        USA   Medium  \n5         Lille     France    Small  \n6        Bergen     Norway   Medium  \n7         Paris     France   Medium  \n8     Melbourne  Australia   Medium  \n9           NYC        USA    Small  \n10       Newark        USA   Medium  \n11  Bridgewater        USA   Medium  \n12       Nantes     France   Medium  \n13    Cambridge        USA   Medium  \n14     Helsinki    Finland    Small  \n15      Stavern     Norway   Medium  \n16    Allentown        USA   Medium  \n17          NYC        USA   Medium  \n18     Salzburg    Austria    Large  \n19    Chatswood  Australia    Small  ",
      "text/html": "<div>\n<style scoped>\n    .dataframe tbody tr th:only-of-type {\n        vertical-align: middle;\n    }\n\n    .dataframe tbody tr th {\n        vertical-align: top;\n    }\n\n    .dataframe thead th {\n        text-align: right;\n    }\n</style>\n<table border=\"1\" class=\"dataframe\">\n  <thead>\n    <tr style=\"text-align: right;\">\n      <th></th>\n      <th>ORDERNUMBER</th>\n      <th>QUANTITYORDERED</th>\n      <th>PRICEEACH</th>\n      <th>ORDERLINENUMBER</th>\n      <th>SALES</th>\n      <th>ORDERDATE</th>\n      <th>DAYS_SINCE_LASTORDER</th>\n      <th>STATUS</th>\n      <th>PRODUCTLINE</th>\n      <th>MSRP</th>\n      <th>PRODUCTCODE</th>\n      <th>CITY</th>\n      <th>COUNTRY</th>\n      <th>DEALSIZE</th>\n    </tr>\n  </thead>\n  <tbody>\n    <tr>\n      <th>0</th>\n      <td>10107</td>\n      <td>30</td>\n      <td>95.70</td>\n      <td>2</td>\n      <td>2871.00</td>\n      <td>24/02/2018</td>\n      <td>828</td>\n      <td>Shipped</td>\n      <td>Motorcycles</td>\n      <td>95</td>\n      <td>S10_1678</td>\n      <td>NYC</td>\n      <td>USA</td>\n      <td>Small</td>\n    </tr>\n    <tr>\n      <th>1</th>\n      <td>10121</td>\n      <td>34</td>\n      <td>81.35</td>\n      <td>5</td>\n      <td>2765.90</td>\n      <td>07/05/2018</td>\n      <td>757</td>\n      <td>Shipped</td>\n      <td>Motorcycles</td>\n      <td>95</td>\n      <td>S10_1678</td>\n      <td>Reims</td>\n      <td>France</td>\n      <td>Small</td>\n    </tr>\n    <tr>\n      <th>2</th>\n      <td>10134</td>\n      <td>41</td>\n      <td>94.74</td>\n      <td>2</td>\n      <td>3884.34</td>\n      <td>01/07/2018</td>\n      <td>703</td>\n      <td>Shipped</td>\n      <td>Motorcycles</td>\n      <td>95</td>\n      <td>S10_1678</td>\n      <td>Paris</td>\n      <td>France</td>\n      <td>Medium</td>\n    </tr>\n    <tr>\n      <th>3</th>\n      <td>10145</td>\n      <td>45</td>\n      <td>83.26</td>\n      <td>6</td>\n      <td>3746.70</td>\n      <td>25/08/2018</td>\n      <td>649</td>\n      <td>Shipped</td>\n      <td>Motorcycles</td>\n      <td>95</td>\n      <td>S10_1678</td>\n      <td>Pasadena</td>\n      <td>USA</td>\n      <td>Medium</td>\n    </tr>\n    <tr>\n      <th>4</th>\n      <td>10168</td>\n      <td>36</td>\n      <td>96.66</td>\n      <td>1</td>\n      <td>3479.76</td>\n      <td>28/10/2018</td>\n      <td>586</td>\n      <td>Shipped</td>\n      <td>Motorcycles</td>\n      <td>95</td>\n      <td>S10_1678</td>\n      <td>Burlingame</td>\n      <td>USA</td>\n      <td>Medium</td>\n    </tr>\n    <tr>\n      <th>5</th>\n      <td>10180</td>\n      <td>29</td>\n      <td>86.13</td>\n      <td>9</td>\n      <td>2497.77</td>\n      <td>11/11/2018</td>\n      <td>573</td>\n      <td>Shipped</td>\n      <td>Motorcycles</td>\n      <td>95</td>\n      <td>S10_1678</td>\n      <td>Lille</td>\n      <td>France</td>\n      <td>Small</td>\n    </tr>\n    <tr>\n      <th>6</th>\n      <td>10188</td>\n      <td>48</td>\n      <td>114.84</td>\n      <td>1</td>\n      <td>5512.32</td>\n      <td>18/11/2018</td>\n      <td>567</td>\n      <td>Shipped</td>\n      <td>Motorcycles</td>\n      <td>95</td>\n      <td>S10_1678</td>\n      <td>Bergen</td>\n      <td>Norway</td>\n      <td>Medium</td>\n    </tr>\n    <tr>\n      <th>7</th>\n      <td>10211</td>\n      <td>41</td>\n      <td>114.84</td>\n      <td>14</td>\n      <td>4708.44</td>\n      <td>15/01/2019</td>\n      <td>510</td>\n      <td>Shipped</td>\n      <td>Motorcycles</td>\n      <td>95</td>\n      <td>S10_1678</td>\n      <td>Paris</td>\n      <td>France</td>\n      <td>Medium</td>\n    </tr>\n    <tr>\n      <th>8</th>\n      <td>10223</td>\n      <td>37</td>\n      <td>107.18</td>\n      <td>1</td>\n      <td>3965.66</td>\n      <td>20/02/2019</td>\n      <td>475</td>\n      <td>Shipped</td>\n      <td>Motorcycles</td>\n      <td>95</td>\n      <td>S10_1678</td>\n      <td>Melbourne</td>\n      <td>Australia</td>\n      <td>Medium</td>\n    </tr>\n    <tr>\n      <th>9</th>\n      <td>10237</td>\n      <td>23</td>\n      <td>101.44</td>\n      <td>7</td>\n      <td>2333.12</td>\n      <td>05/04/2019</td>\n      <td>432</td>\n      <td>Shipped</td>\n      <td>Motorcycles</td>\n      <td>95</td>\n      <td>S10_1678</td>\n      <td>NYC</td>\n      <td>USA</td>\n      <td>Small</td>\n    </tr>\n    <tr>\n      <th>10</th>\n      <td>10251</td>\n      <td>28</td>\n      <td>113.88</td>\n      <td>2</td>\n      <td>3188.64</td>\n      <td>18/05/2019</td>\n      <td>390</td>\n      <td>Shipped</td>\n      <td>Motorcycles</td>\n      <td>95</td>\n      <td>S10_1678</td>\n      <td>Newark</td>\n      <td>USA</td>\n      <td>Medium</td>\n    </tr>\n    <tr>\n      <th>11</th>\n      <td>10263</td>\n      <td>34</td>\n      <td>108.14</td>\n      <td>2</td>\n      <td>3676.76</td>\n      <td>28/06/2019</td>\n      <td>350</td>\n      <td>Shipped</td>\n      <td>Motorcycles</td>\n      <td>95</td>\n      <td>S10_1678</td>\n      <td>Bridgewater</td>\n      <td>USA</td>\n      <td>Medium</td>\n    </tr>\n    <tr>\n      <th>12</th>\n      <td>10275</td>\n      <td>45</td>\n      <td>92.83</td>\n      <td>1</td>\n      <td>4177.35</td>\n      <td>23/07/2019</td>\n      <td>326</td>\n      <td>Shipped</td>\n      <td>Motorcycles</td>\n      <td>95</td>\n      <td>S10_1678</td>\n      <td>Nantes</td>\n      <td>France</td>\n      <td>Medium</td>\n    </tr>\n    <tr>\n      <th>13</th>\n      <td>10285</td>\n      <td>36</td>\n      <td>113.88</td>\n      <td>6</td>\n      <td>4099.68</td>\n      <td>27/08/2019</td>\n      <td>292</td>\n      <td>Shipped</td>\n      <td>Motorcycles</td>\n      <td>95</td>\n      <td>S10_1678</td>\n      <td>Cambridge</td>\n      <td>USA</td>\n      <td>Medium</td>\n    </tr>\n    <tr>\n      <th>14</th>\n      <td>10299</td>\n      <td>23</td>\n      <td>112.93</td>\n      <td>9</td>\n      <td>2597.39</td>\n      <td>30/09/2019</td>\n      <td>259</td>\n      <td>Shipped</td>\n      <td>Motorcycles</td>\n      <td>95</td>\n      <td>S10_1678</td>\n      <td>Helsinki</td>\n      <td>Finland</td>\n      <td>Small</td>\n    </tr>\n    <tr>\n      <th>15</th>\n      <td>10309</td>\n      <td>41</td>\n      <td>107.18</td>\n      <td>5</td>\n      <td>4394.38</td>\n      <td>15/10/2019</td>\n      <td>245</td>\n      <td>Shipped</td>\n      <td>Motorcycles</td>\n      <td>95</td>\n      <td>S10_1678</td>\n      <td>Stavern</td>\n      <td>Norway</td>\n      <td>Medium</td>\n    </tr>\n    <tr>\n      <th>16</th>\n      <td>10318</td>\n      <td>46</td>\n      <td>94.74</td>\n      <td>1</td>\n      <td>4358.04</td>\n      <td>02/11/2019</td>\n      <td>228</td>\n      <td>Shipped</td>\n      <td>Motorcycles</td>\n      <td>95</td>\n      <td>S10_1678</td>\n      <td>Allentown</td>\n      <td>USA</td>\n      <td>Medium</td>\n    </tr>\n    <tr>\n      <th>17</th>\n      <td>10329</td>\n      <td>42</td>\n      <td>104.67</td>\n      <td>1</td>\n      <td>4396.14</td>\n      <td>15/11/2019</td>\n      <td>216</td>\n      <td>Shipped</td>\n      <td>Motorcycles</td>\n      <td>95</td>\n      <td>S10_1678</td>\n      <td>NYC</td>\n      <td>USA</td>\n      <td>Medium</td>\n    </tr>\n    <tr>\n      <th>18</th>\n      <td>10341</td>\n      <td>41</td>\n      <td>188.73</td>\n      <td>9</td>\n      <td>7737.93</td>\n      <td>24/11/2019</td>\n      <td>208</td>\n      <td>Shipped</td>\n      <td>Motorcycles</td>\n      <td>95</td>\n      <td>S10_1678</td>\n      <td>Salzburg</td>\n      <td>Austria</td>\n      <td>Large</td>\n    </tr>\n    <tr>\n      <th>19</th>\n      <td>10361</td>\n      <td>20</td>\n      <td>72.55</td>\n      <td>13</td>\n      <td>1451.00</td>\n      <td>17/12/2019</td>\n      <td>186</td>\n      <td>Shipped</td>\n      <td>Motorcycles</td>\n      <td>95</td>\n      <td>S10_1678</td>\n      <td>Chatswood</td>\n      <td>Australia</td>\n      <td>Small</td>\n    </tr>\n  </tbody>\n</table>\n</div>"
     },
     "execution_count": 17,
     "metadata": {},
     "output_type": "execute_result"
    }
   ],
   "source": [
    "data = data.drop(['CUSTOMERNAME','PHONE','ADDRESSLINE1','POSTALCODE',\n",
    "                  'CONTACTFIRSTNAME','CONTACTLASTNAME'],axis=1)\n",
    "\n",
    "data.head(20)"
   ],
   "metadata": {
    "collapsed": false,
    "ExecuteTime": {
     "end_time": "2023-11-21T18:52:50.768113491Z",
     "start_time": "2023-11-21T18:52:50.482719250Z"
    }
   },
   "id": "6ce9dda8944b8ff3"
  },
  {
   "cell_type": "markdown",
   "source": [
    "**Data Analysis**\n",
    "\n",
    "Let's check the number of unique values in each column."
   ],
   "metadata": {
    "collapsed": false
   },
   "id": "9a5ef6b433cace8d"
  },
  {
   "cell_type": "code",
   "execution_count": 18,
   "outputs": [
    {
     "data": {
      "text/plain": "ORDERNUMBER              298\nQUANTITYORDERED           58\nPRICEEACH               1843\nORDERLINENUMBER           18\nSALES                   2690\nORDERDATE                246\nDAYS_SINCE_LASTORDER    1832\nSTATUS                     6\nPRODUCTLINE                7\nMSRP                      80\nPRODUCTCODE              109\nCITY                      71\nCOUNTRY                   19\nDEALSIZE                   3\ndtype: int64"
     },
     "execution_count": 18,
     "metadata": {},
     "output_type": "execute_result"
    }
   ],
   "source": [
    "data.nunique()"
   ],
   "metadata": {
    "collapsed": false,
    "ExecuteTime": {
     "end_time": "2023-11-21T20:21:04.570932225Z",
     "start_time": "2023-11-21T20:21:04.458163087Z"
    }
   },
   "id": "9a44ae218fea748f"
  }
 ],
 "metadata": {
  "kernelspec": {
   "display_name": "Python 3",
   "language": "python",
   "name": "python3"
  },
  "language_info": {
   "codemirror_mode": {
    "name": "ipython",
    "version": 2
   },
   "file_extension": ".py",
   "mimetype": "text/x-python",
   "name": "python",
   "nbconvert_exporter": "python",
   "pygments_lexer": "ipython2",
   "version": "2.7.6"
  }
 },
 "nbformat": 4,
 "nbformat_minor": 5
}
